{
 "cells": [
  {
   "cell_type": "code",
   "execution_count": 1,
   "id": "6705186b",
   "metadata": {
    "_cell_guid": "b1076dfc-b9ad-4769-8c92-a6c4dae69d19",
    "_uuid": "8f2839f25d086af736a60e9eeb907d3b93b6e0e5",
    "execution": {
     "iopub.execute_input": "2025-03-22T20:17:15.632473Z",
     "iopub.status.busy": "2025-03-22T20:17:15.632276Z",
     "iopub.status.idle": "2025-03-22T20:17:17.591370Z",
     "shell.execute_reply": "2025-03-22T20:17:17.590685Z"
    },
    "papermill": {
     "duration": 1.967124,
     "end_time": "2025-03-22T20:17:17.592787",
     "exception": false,
     "start_time": "2025-03-22T20:17:15.625663",
     "status": "completed"
    },
    "tags": []
   },
   "outputs": [],
   "source": [
    "import pandas as pd\n",
    "import numpy as np\n",
    "import ast\n",
    "from tqdm import tqdm\n",
    "import warnings; warnings.filterwarnings('ignore')\n",
    "from IPython.display import display\n",
    "\n",
    "import matplotlib.pyplot as plt\n",
    "import seaborn as sns\n",
    "%matplotlib inline"
   ]
  },
  {
   "cell_type": "code",
   "execution_count": 2,
   "id": "9eed0c7e",
   "metadata": {
    "execution": {
     "iopub.execute_input": "2025-03-22T20:17:17.604500Z",
     "iopub.status.busy": "2025-03-22T20:17:17.604198Z",
     "iopub.status.idle": "2025-03-22T20:17:17.662586Z",
     "shell.execute_reply": "2025-03-22T20:17:17.661969Z"
    },
    "papermill": {
     "duration": 0.065235,
     "end_time": "2025-03-22T20:17:17.663727",
     "exception": false,
     "start_time": "2025-03-22T20:17:17.598492",
     "status": "completed"
    },
    "tags": []
   },
   "outputs": [
    {
     "data": {
      "text/html": [
       "<div>\n",
       "<style scoped>\n",
       "    .dataframe tbody tr th:only-of-type {\n",
       "        vertical-align: middle;\n",
       "    }\n",
       "\n",
       "    .dataframe tbody tr th {\n",
       "        vertical-align: top;\n",
       "    }\n",
       "\n",
       "    .dataframe thead th {\n",
       "        text-align: right;\n",
       "    }\n",
       "</style>\n",
       "<table border=\"1\" class=\"dataframe\">\n",
       "  <thead>\n",
       "    <tr style=\"text-align: right;\">\n",
       "      <th></th>\n",
       "      <th>ecg_id</th>\n",
       "      <th>age</th>\n",
       "      <th>sex</th>\n",
       "      <th>height</th>\n",
       "      <th>weight</th>\n",
       "      <th>NORM</th>\n",
       "      <th>MI</th>\n",
       "      <th>STTC</th>\n",
       "      <th>HYP</th>\n",
       "      <th>CD</th>\n",
       "    </tr>\n",
       "  </thead>\n",
       "  <tbody>\n",
       "    <tr>\n",
       "      <th>0</th>\n",
       "      <td>1</td>\n",
       "      <td>56.0</td>\n",
       "      <td>1</td>\n",
       "      <td>NaN</td>\n",
       "      <td>63.0</td>\n",
       "      <td>1</td>\n",
       "      <td>0</td>\n",
       "      <td>0</td>\n",
       "      <td>0</td>\n",
       "      <td>0</td>\n",
       "    </tr>\n",
       "    <tr>\n",
       "      <th>1</th>\n",
       "      <td>2</td>\n",
       "      <td>19.0</td>\n",
       "      <td>0</td>\n",
       "      <td>NaN</td>\n",
       "      <td>70.0</td>\n",
       "      <td>1</td>\n",
       "      <td>0</td>\n",
       "      <td>0</td>\n",
       "      <td>0</td>\n",
       "      <td>0</td>\n",
       "    </tr>\n",
       "    <tr>\n",
       "      <th>2</th>\n",
       "      <td>3</td>\n",
       "      <td>37.0</td>\n",
       "      <td>1</td>\n",
       "      <td>NaN</td>\n",
       "      <td>69.0</td>\n",
       "      <td>1</td>\n",
       "      <td>0</td>\n",
       "      <td>0</td>\n",
       "      <td>0</td>\n",
       "      <td>0</td>\n",
       "    </tr>\n",
       "    <tr>\n",
       "      <th>3</th>\n",
       "      <td>4</td>\n",
       "      <td>24.0</td>\n",
       "      <td>0</td>\n",
       "      <td>NaN</td>\n",
       "      <td>82.0</td>\n",
       "      <td>1</td>\n",
       "      <td>0</td>\n",
       "      <td>0</td>\n",
       "      <td>0</td>\n",
       "      <td>0</td>\n",
       "    </tr>\n",
       "    <tr>\n",
       "      <th>4</th>\n",
       "      <td>5</td>\n",
       "      <td>19.0</td>\n",
       "      <td>1</td>\n",
       "      <td>NaN</td>\n",
       "      <td>70.0</td>\n",
       "      <td>1</td>\n",
       "      <td>0</td>\n",
       "      <td>0</td>\n",
       "      <td>0</td>\n",
       "      <td>0</td>\n",
       "    </tr>\n",
       "    <tr>\n",
       "      <th>...</th>\n",
       "      <td>...</td>\n",
       "      <td>...</td>\n",
       "      <td>...</td>\n",
       "      <td>...</td>\n",
       "      <td>...</td>\n",
       "      <td>...</td>\n",
       "      <td>...</td>\n",
       "      <td>...</td>\n",
       "      <td>...</td>\n",
       "      <td>...</td>\n",
       "    </tr>\n",
       "    <tr>\n",
       "      <th>17436</th>\n",
       "      <td>21832</td>\n",
       "      <td>63.0</td>\n",
       "      <td>0</td>\n",
       "      <td>NaN</td>\n",
       "      <td>NaN</td>\n",
       "      <td>0</td>\n",
       "      <td>0</td>\n",
       "      <td>0</td>\n",
       "      <td>0</td>\n",
       "      <td>1</td>\n",
       "    </tr>\n",
       "    <tr>\n",
       "      <th>17437</th>\n",
       "      <td>21833</td>\n",
       "      <td>67.0</td>\n",
       "      <td>1</td>\n",
       "      <td>NaN</td>\n",
       "      <td>NaN</td>\n",
       "      <td>0</td>\n",
       "      <td>0</td>\n",
       "      <td>1</td>\n",
       "      <td>0</td>\n",
       "      <td>0</td>\n",
       "    </tr>\n",
       "    <tr>\n",
       "      <th>17438</th>\n",
       "      <td>21834</td>\n",
       "      <td>93.0</td>\n",
       "      <td>0</td>\n",
       "      <td>NaN</td>\n",
       "      <td>NaN</td>\n",
       "      <td>1</td>\n",
       "      <td>0</td>\n",
       "      <td>0</td>\n",
       "      <td>0</td>\n",
       "      <td>0</td>\n",
       "    </tr>\n",
       "    <tr>\n",
       "      <th>17439</th>\n",
       "      <td>21835</td>\n",
       "      <td>59.0</td>\n",
       "      <td>1</td>\n",
       "      <td>NaN</td>\n",
       "      <td>NaN</td>\n",
       "      <td>0</td>\n",
       "      <td>0</td>\n",
       "      <td>1</td>\n",
       "      <td>0</td>\n",
       "      <td>0</td>\n",
       "    </tr>\n",
       "    <tr>\n",
       "      <th>17440</th>\n",
       "      <td>21836</td>\n",
       "      <td>64.0</td>\n",
       "      <td>1</td>\n",
       "      <td>NaN</td>\n",
       "      <td>NaN</td>\n",
       "      <td>1</td>\n",
       "      <td>0</td>\n",
       "      <td>0</td>\n",
       "      <td>0</td>\n",
       "      <td>0</td>\n",
       "    </tr>\n",
       "  </tbody>\n",
       "</table>\n",
       "<p>17441 rows × 10 columns</p>\n",
       "</div>"
      ],
      "text/plain": [
       "       ecg_id   age  sex  height  weight  NORM  MI  STTC  HYP  CD\n",
       "0           1  56.0    1     NaN    63.0     1   0     0    0   0\n",
       "1           2  19.0    0     NaN    70.0     1   0     0    0   0\n",
       "2           3  37.0    1     NaN    69.0     1   0     0    0   0\n",
       "3           4  24.0    0     NaN    82.0     1   0     0    0   0\n",
       "4           5  19.0    1     NaN    70.0     1   0     0    0   0\n",
       "...       ...   ...  ...     ...     ...   ...  ..   ...  ...  ..\n",
       "17436   21832  63.0    0     NaN     NaN     0   0     0    0   1\n",
       "17437   21833  67.0    1     NaN     NaN     0   0     1    0   0\n",
       "17438   21834  93.0    0     NaN     NaN     1   0     0    0   0\n",
       "17439   21835  59.0    1     NaN     NaN     0   0     1    0   0\n",
       "17440   21836  64.0    1     NaN     NaN     1   0     0    0   0\n",
       "\n",
       "[17441 rows x 10 columns]"
      ]
     },
     "execution_count": 2,
     "metadata": {},
     "output_type": "execute_result"
    }
   ],
   "source": [
    "file_path = \"/kaggle/input/ptb-diagnostic-ecg-dataset/train_meta.csv\" \n",
    "train_meta = pd.read_csv(file_path)\n",
    "train_meta"
   ]
  },
  {
   "cell_type": "code",
   "execution_count": 3,
   "id": "7d7affbf",
   "metadata": {
    "execution": {
     "iopub.execute_input": "2025-03-22T20:17:17.675370Z",
     "iopub.status.busy": "2025-03-22T20:17:17.675168Z",
     "iopub.status.idle": "2025-03-22T20:17:26.134123Z",
     "shell.execute_reply": "2025-03-22T20:17:26.133130Z"
    },
    "papermill": {
     "duration": 8.466256,
     "end_time": "2025-03-22T20:17:26.135631",
     "exception": false,
     "start_time": "2025-03-22T20:17:17.669375",
     "status": "completed"
    },
    "tags": []
   },
   "outputs": [
    {
     "data": {
      "text/html": [
       "<div>\n",
       "<style scoped>\n",
       "    .dataframe tbody tr th:only-of-type {\n",
       "        vertical-align: middle;\n",
       "    }\n",
       "\n",
       "    .dataframe tbody tr th {\n",
       "        vertical-align: top;\n",
       "    }\n",
       "\n",
       "    .dataframe thead th {\n",
       "        text-align: right;\n",
       "    }\n",
       "</style>\n",
       "<table border=\"1\" class=\"dataframe\">\n",
       "  <thead>\n",
       "    <tr style=\"text-align: right;\">\n",
       "      <th></th>\n",
       "      <th>ecg_id</th>\n",
       "      <th>channel-0</th>\n",
       "      <th>channel-1</th>\n",
       "      <th>channel-3</th>\n",
       "    </tr>\n",
       "  </thead>\n",
       "  <tbody>\n",
       "    <tr>\n",
       "      <th>0</th>\n",
       "      <td>1</td>\n",
       "      <td>-0.119</td>\n",
       "      <td>-0.055</td>\n",
       "      <td>0.086</td>\n",
       "    </tr>\n",
       "    <tr>\n",
       "      <th>1</th>\n",
       "      <td>1</td>\n",
       "      <td>-0.116</td>\n",
       "      <td>-0.051</td>\n",
       "      <td>0.083</td>\n",
       "    </tr>\n",
       "    <tr>\n",
       "      <th>2</th>\n",
       "      <td>1</td>\n",
       "      <td>-0.120</td>\n",
       "      <td>-0.044</td>\n",
       "      <td>0.082</td>\n",
       "    </tr>\n",
       "    <tr>\n",
       "      <th>3</th>\n",
       "      <td>1</td>\n",
       "      <td>-0.117</td>\n",
       "      <td>-0.038</td>\n",
       "      <td>0.077</td>\n",
       "    </tr>\n",
       "    <tr>\n",
       "      <th>4</th>\n",
       "      <td>1</td>\n",
       "      <td>-0.103</td>\n",
       "      <td>-0.031</td>\n",
       "      <td>0.066</td>\n",
       "    </tr>\n",
       "    <tr>\n",
       "      <th>...</th>\n",
       "      <td>...</td>\n",
       "      <td>...</td>\n",
       "      <td>...</td>\n",
       "      <td>...</td>\n",
       "    </tr>\n",
       "    <tr>\n",
       "      <th>17440995</th>\n",
       "      <td>21836</td>\n",
       "      <td>0.096</td>\n",
       "      <td>0.189</td>\n",
       "      <td>-0.143</td>\n",
       "    </tr>\n",
       "    <tr>\n",
       "      <th>17440996</th>\n",
       "      <td>21836</td>\n",
       "      <td>0.051</td>\n",
       "      <td>0.119</td>\n",
       "      <td>-0.085</td>\n",
       "    </tr>\n",
       "    <tr>\n",
       "      <th>17440997</th>\n",
       "      <td>21836</td>\n",
       "      <td>0.033</td>\n",
       "      <td>0.070</td>\n",
       "      <td>-0.052</td>\n",
       "    </tr>\n",
       "    <tr>\n",
       "      <th>17440998</th>\n",
       "      <td>21836</td>\n",
       "      <td>0.027</td>\n",
       "      <td>0.082</td>\n",
       "      <td>-0.055</td>\n",
       "    </tr>\n",
       "    <tr>\n",
       "      <th>17440999</th>\n",
       "      <td>21836</td>\n",
       "      <td>-0.006</td>\n",
       "      <td>0.051</td>\n",
       "      <td>-0.023</td>\n",
       "    </tr>\n",
       "  </tbody>\n",
       "</table>\n",
       "<p>17441000 rows × 4 columns</p>\n",
       "</div>"
      ],
      "text/plain": [
       "          ecg_id  channel-0  channel-1  channel-3\n",
       "0              1     -0.119     -0.055      0.086\n",
       "1              1     -0.116     -0.051      0.083\n",
       "2              1     -0.120     -0.044      0.082\n",
       "3              1     -0.117     -0.038      0.077\n",
       "4              1     -0.103     -0.031      0.066\n",
       "...          ...        ...        ...        ...\n",
       "17440995   21836      0.096      0.189     -0.143\n",
       "17440996   21836      0.051      0.119     -0.085\n",
       "17440997   21836      0.033      0.070     -0.052\n",
       "17440998   21836      0.027      0.082     -0.055\n",
       "17440999   21836     -0.006      0.051     -0.023\n",
       "\n",
       "[17441000 rows x 4 columns]"
      ]
     },
     "execution_count": 3,
     "metadata": {},
     "output_type": "execute_result"
    }
   ],
   "source": [
    "file_path = \"/kaggle/input/ptb-diagnostic-ecg-dataset/train_signal.csv\" \n",
    "train_signal = pd.read_csv(file_path)\n",
    "train_signal"
   ]
  },
  {
   "cell_type": "code",
   "execution_count": 4,
   "id": "2d17dc03",
   "metadata": {
    "execution": {
     "iopub.execute_input": "2025-03-22T20:17:26.148354Z",
     "iopub.status.busy": "2025-03-22T20:17:26.148126Z",
     "iopub.status.idle": "2025-03-22T20:17:26.625653Z",
     "shell.execute_reply": "2025-03-22T20:17:26.624973Z"
    },
    "papermill": {
     "duration": 0.485471,
     "end_time": "2025-03-22T20:17:26.627296",
     "exception": false,
     "start_time": "2025-03-22T20:17:26.141825",
     "status": "completed"
    },
    "tags": []
   },
   "outputs": [],
   "source": [
    "hyp_ids = train_meta[train_meta['HYP'] == 1]['ecg_id']\n",
    "train_signal = train_signal[~train_signal['ecg_id'].isin(hyp_ids)]\n",
    "train_meta = train_meta.drop(columns=['HYP'])\n",
    "train_meta = train_meta[~train_meta['ecg_id'].isin(hyp_ids)]"
   ]
  },
  {
   "cell_type": "code",
   "execution_count": 5,
   "id": "c399bae3",
   "metadata": {
    "execution": {
     "iopub.execute_input": "2025-03-22T20:17:26.640044Z",
     "iopub.status.busy": "2025-03-22T20:17:26.639769Z",
     "iopub.status.idle": "2025-03-22T20:17:50.032719Z",
     "shell.execute_reply": "2025-03-22T20:17:50.031441Z"
    },
    "papermill": {
     "duration": 23.400949,
     "end_time": "2025-03-22T20:17:50.034388",
     "exception": false,
     "start_time": "2025-03-22T20:17:26.633439",
     "status": "completed"
    },
    "tags": []
   },
   "outputs": [
    {
     "name": "stdout",
     "output_type": "stream",
     "text": [
      "Training data shape: (15320, 1000, 3)\n",
      "Training labels shape: (15320,)\n"
     ]
    }
   ],
   "source": [
    "import numpy as np\n",
    "import pandas as pd\n",
    "from tensorflow.keras.models import Sequential\n",
    "from tensorflow.keras.layers import LSTM, Dense, Dropout, BatchNormalization\n",
    "from tensorflow.keras.optimizers import Adam\n",
    "from tensorflow.keras.utils import to_categorical\n",
    "from sklearn.preprocessing import StandardScaler\n",
    "from sklearn.metrics import f1_score\n",
    "\n",
    "# ---------------------------\n",
    "# Data Loading and Preprocessing for Training Data\n",
    "# ---------------------------\n",
    "\n",
    "# Extract class labels\n",
    "label_cols = ['NORM', 'MI', 'STTC', 'CD']\n",
    "if 'target' not in train_meta.columns:\n",
    "    train_meta['target'] = train_meta[label_cols].values.argmax(axis=1)\n",
    "\n",
    "# Prepare training data\n",
    "X_train, y_train = [], []\n",
    "grouped = train_signal.groupby('ecg_id')\n",
    "for ecg_id, group in grouped:\n",
    "    if len(group) != 1000:\n",
    "        continue\n",
    "    sample = group[['channel-0', 'channel-1', 'channel-3']].to_numpy()\n",
    "    X_train.append(sample)\n",
    "    \n",
    "    label = train_meta.loc[train_meta['ecg_id'] == ecg_id, 'target'].values\n",
    "    if len(label) == 0:\n",
    "        continue\n",
    "    y_train.append(label[0])\n",
    "\n",
    "X_train = np.array(X_train)  # Shape: (num_train_samples, 1000, 3)\n",
    "y_train = np.array(y_train)\n",
    "\n",
    "print(\"Training data shape:\", X_train.shape)\n",
    "print(\"Training labels shape:\", y_train.shape)"
   ]
  },
  {
   "cell_type": "code",
   "execution_count": 6,
   "id": "c4feb518",
   "metadata": {
    "execution": {
     "iopub.execute_input": "2025-03-22T20:17:50.047728Z",
     "iopub.status.busy": "2025-03-22T20:17:50.047207Z",
     "iopub.status.idle": "2025-03-22T20:17:52.494339Z",
     "shell.execute_reply": "2025-03-22T20:17:52.493449Z"
    },
    "papermill": {
     "duration": 2.454838,
     "end_time": "2025-03-22T20:17:52.495678",
     "exception": false,
     "start_time": "2025-03-22T20:17:50.040840",
     "status": "completed"
    },
    "tags": []
   },
   "outputs": [
    {
     "name": "stdout",
     "output_type": "stream",
     "text": [
      "Validation data shape: (1922, 1000, 3)\n",
      "Validation labels shape: (1922,)\n"
     ]
    }
   ],
   "source": [
    "# ---------------------------\n",
    "# Data Loading and Preprocessing for Validation Data\n",
    "# ---------------------------\n",
    "val_meta = pd.read_csv('/kaggle/input/ptb-diagnostic-ecg-dataset/valid_meta.csv')\n",
    "val_signal = pd.read_csv('/kaggle/input/ptb-diagnostic-ecg-dataset/valid_signal.csv')\n",
    "\n",
    "hyp_ids = val_meta[val_meta['HYP'] == 1]['ecg_id']\n",
    "val_signal = val_signal[~val_signal['ecg_id'].isin(hyp_ids)]\n",
    "val_meta = val_meta.drop(columns=['HYP'])\n",
    "val_meta = val_meta[~val_meta['ecg_id'].isin(hyp_ids)]\n",
    "\n",
    "if 'target' not in val_meta.columns:\n",
    "    val_meta['target'] = val_meta[label_cols].values.argmax(axis=1)\n",
    "\n",
    "X_val, y_val = [], []\n",
    "grouped_val = val_signal.groupby('ecg_id')\n",
    "for ecg_id, group in grouped_val:\n",
    "    if len(group) != 1000:\n",
    "        continue\n",
    "    sample = group[['channel-0', 'channel-1', 'channel-3']].to_numpy()\n",
    "    X_val.append(sample)\n",
    "    \n",
    "    label = val_meta.loc[val_meta['ecg_id'] == ecg_id, 'target'].values\n",
    "    if len(label) == 0:\n",
    "        continue\n",
    "    y_val.append(label[0])\n",
    "\n",
    "X_val = np.array(X_val)  # Shape: (num_val_samples, 1000, 3)\n",
    "y_val = np.array(y_val)\n",
    "\n",
    "print(\"Validation data shape:\", X_val.shape)\n",
    "print(\"Validation labels shape:\", y_val.shape)\n"
   ]
  },
  {
   "cell_type": "code",
   "execution_count": 7,
   "id": "e64a5f18",
   "metadata": {
    "execution": {
     "iopub.execute_input": "2025-03-22T20:17:52.508314Z",
     "iopub.status.busy": "2025-03-22T20:17:52.508075Z",
     "iopub.status.idle": "2025-03-22T20:17:54.443229Z",
     "shell.execute_reply": "2025-03-22T20:17:54.442383Z"
    },
    "papermill": {
     "duration": 1.943685,
     "end_time": "2025-03-22T20:17:54.445356",
     "exception": false,
     "start_time": "2025-03-22T20:17:52.501671",
     "status": "completed"
    },
    "tags": []
   },
   "outputs": [],
   "source": [
    "# ---------------------------\n",
    "# Normalize the Signals\n",
    "# ---------------------------\n",
    "scaler = StandardScaler()\n",
    "\n",
    "# Reshape and scale training data\n",
    "X_train_reshaped = X_train.reshape(-1, 3)\n",
    "X_train_scaled = scaler.fit_transform(X_train_reshaped)\n",
    "X_train = X_train_scaled.reshape(X_train.shape)\n",
    "\n",
    "# Reshape and scale validation data\n",
    "X_val_reshaped = X_val.reshape(-1, 3)\n",
    "X_val_scaled = scaler.transform(X_val_reshaped)\n",
    "X_val = X_val_scaled.reshape(X_val.shape)"
   ]
  },
  {
   "cell_type": "code",
   "execution_count": 8,
   "id": "baa06ed8",
   "metadata": {
    "execution": {
     "iopub.execute_input": "2025-03-22T20:17:54.460945Z",
     "iopub.status.busy": "2025-03-22T20:17:54.460588Z",
     "iopub.status.idle": "2025-03-22T20:17:54.465581Z",
     "shell.execute_reply": "2025-03-22T20:17:54.464821Z"
    },
    "papermill": {
     "duration": 0.013783,
     "end_time": "2025-03-22T20:17:54.467071",
     "exception": false,
     "start_time": "2025-03-22T20:17:54.453288",
     "status": "completed"
    },
    "tags": []
   },
   "outputs": [],
   "source": [
    "# ---------------------------\n",
    "# Convert Labels to One-Hot Encoding\n",
    "# ---------------------------\n",
    "num_classes = len(np.unique(y_train))\n",
    "y_train_cat = to_categorical(y_train, num_classes=num_classes)\n",
    "y_val_cat = to_categorical(y_val, num_classes=num_classes)"
   ]
  },
  {
   "cell_type": "code",
   "execution_count": 9,
   "id": "669eec43",
   "metadata": {
    "execution": {
     "iopub.execute_input": "2025-03-22T20:17:54.479709Z",
     "iopub.status.busy": "2025-03-22T20:17:54.479401Z",
     "iopub.status.idle": "2025-03-22T20:17:56.958688Z",
     "shell.execute_reply": "2025-03-22T20:17:56.957831Z"
    },
    "papermill": {
     "duration": 2.486845,
     "end_time": "2025-03-22T20:17:56.959893",
     "exception": false,
     "start_time": "2025-03-22T20:17:54.473048",
     "status": "completed"
    },
    "tags": []
   },
   "outputs": [
    {
     "data": {
      "text/html": [
       "<pre style=\"white-space:pre;overflow-x:auto;line-height:normal;font-family:Menlo,'DejaVu Sans Mono',consolas,'Courier New',monospace\"><span style=\"font-weight: bold\">Model: \"sequential\"</span>\n",
       "</pre>\n"
      ],
      "text/plain": [
       "\u001b[1mModel: \"sequential\"\u001b[0m\n"
      ]
     },
     "metadata": {},
     "output_type": "display_data"
    },
    {
     "data": {
      "text/html": [
       "<pre style=\"white-space:pre;overflow-x:auto;line-height:normal;font-family:Menlo,'DejaVu Sans Mono',consolas,'Courier New',monospace\">┏━━━━━━━━━━━━━━━━━━━━━━━━━━━━━━━━━━━━━━┳━━━━━━━━━━━━━━━━━━━━━━━━━━━━━┳━━━━━━━━━━━━━━━━━┓\n",
       "┃<span style=\"font-weight: bold\"> Layer (type)                         </span>┃<span style=\"font-weight: bold\"> Output Shape                </span>┃<span style=\"font-weight: bold\">         Param # </span>┃\n",
       "┡━━━━━━━━━━━━━━━━━━━━━━━━━━━━━━━━━━━━━━╇━━━━━━━━━━━━━━━━━━━━━━━━━━━━━╇━━━━━━━━━━━━━━━━━┩\n",
       "│ lstm (<span style=\"color: #0087ff; text-decoration-color: #0087ff\">LSTM</span>)                          │ (<span style=\"color: #00d7ff; text-decoration-color: #00d7ff\">None</span>, <span style=\"color: #00af00; text-decoration-color: #00af00\">1000</span>, <span style=\"color: #00af00; text-decoration-color: #00af00\">64</span>)            │          <span style=\"color: #00af00; text-decoration-color: #00af00\">17,408</span> │\n",
       "├──────────────────────────────────────┼─────────────────────────────┼─────────────────┤\n",
       "│ batch_normalization                  │ (<span style=\"color: #00d7ff; text-decoration-color: #00d7ff\">None</span>, <span style=\"color: #00af00; text-decoration-color: #00af00\">1000</span>, <span style=\"color: #00af00; text-decoration-color: #00af00\">64</span>)            │             <span style=\"color: #00af00; text-decoration-color: #00af00\">256</span> │\n",
       "│ (<span style=\"color: #0087ff; text-decoration-color: #0087ff\">BatchNormalization</span>)                 │                             │                 │\n",
       "├──────────────────────────────────────┼─────────────────────────────┼─────────────────┤\n",
       "│ dropout (<span style=\"color: #0087ff; text-decoration-color: #0087ff\">Dropout</span>)                    │ (<span style=\"color: #00d7ff; text-decoration-color: #00d7ff\">None</span>, <span style=\"color: #00af00; text-decoration-color: #00af00\">1000</span>, <span style=\"color: #00af00; text-decoration-color: #00af00\">64</span>)            │               <span style=\"color: #00af00; text-decoration-color: #00af00\">0</span> │\n",
       "├──────────────────────────────────────┼─────────────────────────────┼─────────────────┤\n",
       "│ lstm_1 (<span style=\"color: #0087ff; text-decoration-color: #0087ff\">LSTM</span>)                        │ (<span style=\"color: #00d7ff; text-decoration-color: #00d7ff\">None</span>, <span style=\"color: #00af00; text-decoration-color: #00af00\">1000</span>, <span style=\"color: #00af00; text-decoration-color: #00af00\">128</span>)           │          <span style=\"color: #00af00; text-decoration-color: #00af00\">98,816</span> │\n",
       "├──────────────────────────────────────┼─────────────────────────────┼─────────────────┤\n",
       "│ batch_normalization_1                │ (<span style=\"color: #00d7ff; text-decoration-color: #00d7ff\">None</span>, <span style=\"color: #00af00; text-decoration-color: #00af00\">1000</span>, <span style=\"color: #00af00; text-decoration-color: #00af00\">128</span>)           │             <span style=\"color: #00af00; text-decoration-color: #00af00\">512</span> │\n",
       "│ (<span style=\"color: #0087ff; text-decoration-color: #0087ff\">BatchNormalization</span>)                 │                             │                 │\n",
       "├──────────────────────────────────────┼─────────────────────────────┼─────────────────┤\n",
       "│ dropout_1 (<span style=\"color: #0087ff; text-decoration-color: #0087ff\">Dropout</span>)                  │ (<span style=\"color: #00d7ff; text-decoration-color: #00d7ff\">None</span>, <span style=\"color: #00af00; text-decoration-color: #00af00\">1000</span>, <span style=\"color: #00af00; text-decoration-color: #00af00\">128</span>)           │               <span style=\"color: #00af00; text-decoration-color: #00af00\">0</span> │\n",
       "├──────────────────────────────────────┼─────────────────────────────┼─────────────────┤\n",
       "│ lstm_2 (<span style=\"color: #0087ff; text-decoration-color: #0087ff\">LSTM</span>)                        │ (<span style=\"color: #00d7ff; text-decoration-color: #00d7ff\">None</span>, <span style=\"color: #00af00; text-decoration-color: #00af00\">128</span>)                 │         <span style=\"color: #00af00; text-decoration-color: #00af00\">131,584</span> │\n",
       "├──────────────────────────────────────┼─────────────────────────────┼─────────────────┤\n",
       "│ batch_normalization_2                │ (<span style=\"color: #00d7ff; text-decoration-color: #00d7ff\">None</span>, <span style=\"color: #00af00; text-decoration-color: #00af00\">128</span>)                 │             <span style=\"color: #00af00; text-decoration-color: #00af00\">512</span> │\n",
       "│ (<span style=\"color: #0087ff; text-decoration-color: #0087ff\">BatchNormalization</span>)                 │                             │                 │\n",
       "├──────────────────────────────────────┼─────────────────────────────┼─────────────────┤\n",
       "│ dropout_2 (<span style=\"color: #0087ff; text-decoration-color: #0087ff\">Dropout</span>)                  │ (<span style=\"color: #00d7ff; text-decoration-color: #00d7ff\">None</span>, <span style=\"color: #00af00; text-decoration-color: #00af00\">128</span>)                 │               <span style=\"color: #00af00; text-decoration-color: #00af00\">0</span> │\n",
       "├──────────────────────────────────────┼─────────────────────────────┼─────────────────┤\n",
       "│ dense (<span style=\"color: #0087ff; text-decoration-color: #0087ff\">Dense</span>)                        │ (<span style=\"color: #00d7ff; text-decoration-color: #00d7ff\">None</span>, <span style=\"color: #00af00; text-decoration-color: #00af00\">256</span>)                 │          <span style=\"color: #00af00; text-decoration-color: #00af00\">33,024</span> │\n",
       "├──────────────────────────────────────┼─────────────────────────────┼─────────────────┤\n",
       "│ dropout_3 (<span style=\"color: #0087ff; text-decoration-color: #0087ff\">Dropout</span>)                  │ (<span style=\"color: #00d7ff; text-decoration-color: #00d7ff\">None</span>, <span style=\"color: #00af00; text-decoration-color: #00af00\">256</span>)                 │               <span style=\"color: #00af00; text-decoration-color: #00af00\">0</span> │\n",
       "├──────────────────────────────────────┼─────────────────────────────┼─────────────────┤\n",
       "│ dense_1 (<span style=\"color: #0087ff; text-decoration-color: #0087ff\">Dense</span>)                      │ (<span style=\"color: #00d7ff; text-decoration-color: #00d7ff\">None</span>, <span style=\"color: #00af00; text-decoration-color: #00af00\">128</span>)                 │          <span style=\"color: #00af00; text-decoration-color: #00af00\">32,896</span> │\n",
       "├──────────────────────────────────────┼─────────────────────────────┼─────────────────┤\n",
       "│ dropout_4 (<span style=\"color: #0087ff; text-decoration-color: #0087ff\">Dropout</span>)                  │ (<span style=\"color: #00d7ff; text-decoration-color: #00d7ff\">None</span>, <span style=\"color: #00af00; text-decoration-color: #00af00\">128</span>)                 │               <span style=\"color: #00af00; text-decoration-color: #00af00\">0</span> │\n",
       "├──────────────────────────────────────┼─────────────────────────────┼─────────────────┤\n",
       "│ dense_2 (<span style=\"color: #0087ff; text-decoration-color: #0087ff\">Dense</span>)                      │ (<span style=\"color: #00d7ff; text-decoration-color: #00d7ff\">None</span>, <span style=\"color: #00af00; text-decoration-color: #00af00\">4</span>)                   │             <span style=\"color: #00af00; text-decoration-color: #00af00\">516</span> │\n",
       "└──────────────────────────────────────┴─────────────────────────────┴─────────────────┘\n",
       "</pre>\n"
      ],
      "text/plain": [
       "┏━━━━━━━━━━━━━━━━━━━━━━━━━━━━━━━━━━━━━━┳━━━━━━━━━━━━━━━━━━━━━━━━━━━━━┳━━━━━━━━━━━━━━━━━┓\n",
       "┃\u001b[1m \u001b[0m\u001b[1mLayer (type)                        \u001b[0m\u001b[1m \u001b[0m┃\u001b[1m \u001b[0m\u001b[1mOutput Shape               \u001b[0m\u001b[1m \u001b[0m┃\u001b[1m \u001b[0m\u001b[1m        Param #\u001b[0m\u001b[1m \u001b[0m┃\n",
       "┡━━━━━━━━━━━━━━━━━━━━━━━━━━━━━━━━━━━━━━╇━━━━━━━━━━━━━━━━━━━━━━━━━━━━━╇━━━━━━━━━━━━━━━━━┩\n",
       "│ lstm (\u001b[38;5;33mLSTM\u001b[0m)                          │ (\u001b[38;5;45mNone\u001b[0m, \u001b[38;5;34m1000\u001b[0m, \u001b[38;5;34m64\u001b[0m)            │          \u001b[38;5;34m17,408\u001b[0m │\n",
       "├──────────────────────────────────────┼─────────────────────────────┼─────────────────┤\n",
       "│ batch_normalization                  │ (\u001b[38;5;45mNone\u001b[0m, \u001b[38;5;34m1000\u001b[0m, \u001b[38;5;34m64\u001b[0m)            │             \u001b[38;5;34m256\u001b[0m │\n",
       "│ (\u001b[38;5;33mBatchNormalization\u001b[0m)                 │                             │                 │\n",
       "├──────────────────────────────────────┼─────────────────────────────┼─────────────────┤\n",
       "│ dropout (\u001b[38;5;33mDropout\u001b[0m)                    │ (\u001b[38;5;45mNone\u001b[0m, \u001b[38;5;34m1000\u001b[0m, \u001b[38;5;34m64\u001b[0m)            │               \u001b[38;5;34m0\u001b[0m │\n",
       "├──────────────────────────────────────┼─────────────────────────────┼─────────────────┤\n",
       "│ lstm_1 (\u001b[38;5;33mLSTM\u001b[0m)                        │ (\u001b[38;5;45mNone\u001b[0m, \u001b[38;5;34m1000\u001b[0m, \u001b[38;5;34m128\u001b[0m)           │          \u001b[38;5;34m98,816\u001b[0m │\n",
       "├──────────────────────────────────────┼─────────────────────────────┼─────────────────┤\n",
       "│ batch_normalization_1                │ (\u001b[38;5;45mNone\u001b[0m, \u001b[38;5;34m1000\u001b[0m, \u001b[38;5;34m128\u001b[0m)           │             \u001b[38;5;34m512\u001b[0m │\n",
       "│ (\u001b[38;5;33mBatchNormalization\u001b[0m)                 │                             │                 │\n",
       "├──────────────────────────────────────┼─────────────────────────────┼─────────────────┤\n",
       "│ dropout_1 (\u001b[38;5;33mDropout\u001b[0m)                  │ (\u001b[38;5;45mNone\u001b[0m, \u001b[38;5;34m1000\u001b[0m, \u001b[38;5;34m128\u001b[0m)           │               \u001b[38;5;34m0\u001b[0m │\n",
       "├──────────────────────────────────────┼─────────────────────────────┼─────────────────┤\n",
       "│ lstm_2 (\u001b[38;5;33mLSTM\u001b[0m)                        │ (\u001b[38;5;45mNone\u001b[0m, \u001b[38;5;34m128\u001b[0m)                 │         \u001b[38;5;34m131,584\u001b[0m │\n",
       "├──────────────────────────────────────┼─────────────────────────────┼─────────────────┤\n",
       "│ batch_normalization_2                │ (\u001b[38;5;45mNone\u001b[0m, \u001b[38;5;34m128\u001b[0m)                 │             \u001b[38;5;34m512\u001b[0m │\n",
       "│ (\u001b[38;5;33mBatchNormalization\u001b[0m)                 │                             │                 │\n",
       "├──────────────────────────────────────┼─────────────────────────────┼─────────────────┤\n",
       "│ dropout_2 (\u001b[38;5;33mDropout\u001b[0m)                  │ (\u001b[38;5;45mNone\u001b[0m, \u001b[38;5;34m128\u001b[0m)                 │               \u001b[38;5;34m0\u001b[0m │\n",
       "├──────────────────────────────────────┼─────────────────────────────┼─────────────────┤\n",
       "│ dense (\u001b[38;5;33mDense\u001b[0m)                        │ (\u001b[38;5;45mNone\u001b[0m, \u001b[38;5;34m256\u001b[0m)                 │          \u001b[38;5;34m33,024\u001b[0m │\n",
       "├──────────────────────────────────────┼─────────────────────────────┼─────────────────┤\n",
       "│ dropout_3 (\u001b[38;5;33mDropout\u001b[0m)                  │ (\u001b[38;5;45mNone\u001b[0m, \u001b[38;5;34m256\u001b[0m)                 │               \u001b[38;5;34m0\u001b[0m │\n",
       "├──────────────────────────────────────┼─────────────────────────────┼─────────────────┤\n",
       "│ dense_1 (\u001b[38;5;33mDense\u001b[0m)                      │ (\u001b[38;5;45mNone\u001b[0m, \u001b[38;5;34m128\u001b[0m)                 │          \u001b[38;5;34m32,896\u001b[0m │\n",
       "├──────────────────────────────────────┼─────────────────────────────┼─────────────────┤\n",
       "│ dropout_4 (\u001b[38;5;33mDropout\u001b[0m)                  │ (\u001b[38;5;45mNone\u001b[0m, \u001b[38;5;34m128\u001b[0m)                 │               \u001b[38;5;34m0\u001b[0m │\n",
       "├──────────────────────────────────────┼─────────────────────────────┼─────────────────┤\n",
       "│ dense_2 (\u001b[38;5;33mDense\u001b[0m)                      │ (\u001b[38;5;45mNone\u001b[0m, \u001b[38;5;34m4\u001b[0m)                   │             \u001b[38;5;34m516\u001b[0m │\n",
       "└──────────────────────────────────────┴─────────────────────────────┴─────────────────┘\n"
      ]
     },
     "metadata": {},
     "output_type": "display_data"
    },
    {
     "data": {
      "text/html": [
       "<pre style=\"white-space:pre;overflow-x:auto;line-height:normal;font-family:Menlo,'DejaVu Sans Mono',consolas,'Courier New',monospace\"><span style=\"font-weight: bold\"> Total params: </span><span style=\"color: #00af00; text-decoration-color: #00af00\">315,524</span> (1.20 MB)\n",
       "</pre>\n"
      ],
      "text/plain": [
       "\u001b[1m Total params: \u001b[0m\u001b[38;5;34m315,524\u001b[0m (1.20 MB)\n"
      ]
     },
     "metadata": {},
     "output_type": "display_data"
    },
    {
     "data": {
      "text/html": [
       "<pre style=\"white-space:pre;overflow-x:auto;line-height:normal;font-family:Menlo,'DejaVu Sans Mono',consolas,'Courier New',monospace\"><span style=\"font-weight: bold\"> Trainable params: </span><span style=\"color: #00af00; text-decoration-color: #00af00\">314,884</span> (1.20 MB)\n",
       "</pre>\n"
      ],
      "text/plain": [
       "\u001b[1m Trainable params: \u001b[0m\u001b[38;5;34m314,884\u001b[0m (1.20 MB)\n"
      ]
     },
     "metadata": {},
     "output_type": "display_data"
    },
    {
     "data": {
      "text/html": [
       "<pre style=\"white-space:pre;overflow-x:auto;line-height:normal;font-family:Menlo,'DejaVu Sans Mono',consolas,'Courier New',monospace\"><span style=\"font-weight: bold\"> Non-trainable params: </span><span style=\"color: #00af00; text-decoration-color: #00af00\">640</span> (2.50 KB)\n",
       "</pre>\n"
      ],
      "text/plain": [
       "\u001b[1m Non-trainable params: \u001b[0m\u001b[38;5;34m640\u001b[0m (2.50 KB)\n"
      ]
     },
     "metadata": {},
     "output_type": "display_data"
    }
   ],
   "source": [
    "# ---------------------------\n",
    "# Build an LSTM Model\n",
    "# ---------------------------\n",
    "model = Sequential([\n",
    "    LSTM(64, return_sequences=True, input_shape=(1000, 3)),\n",
    "    BatchNormalization(),\n",
    "    Dropout(0.3),\n",
    "    \n",
    "    LSTM(128, return_sequences=True),\n",
    "    BatchNormalization(),\n",
    "    Dropout(0.3),\n",
    "    \n",
    "    LSTM(128),\n",
    "    BatchNormalization(),\n",
    "    Dropout(0.3),\n",
    "    \n",
    "    Dense(256, activation='relu'),\n",
    "    Dropout(0.5),\n",
    "    \n",
    "    Dense(128, activation='relu'),\n",
    "    Dropout(0.5),\n",
    "    \n",
    "    Dense(num_classes, activation='softmax')\n",
    "])\n",
    "\n",
    "model.compile(optimizer=Adam(learning_rate=0.001),\n",
    "              loss='categorical_crossentropy',\n",
    "              metrics=['accuracy'])\n",
    "\n",
    "model.summary()"
   ]
  },
  {
   "cell_type": "code",
   "execution_count": 10,
   "id": "1fd04a8f",
   "metadata": {
    "execution": {
     "iopub.execute_input": "2025-03-22T20:17:56.973857Z",
     "iopub.status.busy": "2025-03-22T20:17:56.973624Z",
     "iopub.status.idle": "2025-03-22T20:40:12.962423Z",
     "shell.execute_reply": "2025-03-22T20:40:12.961710Z"
    },
    "papermill": {
     "duration": 1335.997161,
     "end_time": "2025-03-22T20:40:12.963731",
     "exception": false,
     "start_time": "2025-03-22T20:17:56.966570",
     "status": "completed"
    },
    "tags": []
   },
   "outputs": [
    {
     "name": "stdout",
     "output_type": "stream",
     "text": [
      "Epoch 1/30\n",
      "\u001b[1m479/479\u001b[0m \u001b[32m━━━━━━━━━━━━━━━━━━━━\u001b[0m\u001b[37m\u001b[0m \u001b[1m51s\u001b[0m 93ms/step - accuracy: 0.4437 - loss: 1.3806 - val_accuracy: 0.5146 - val_loss: 1.1932\n",
      "Epoch 2/30\n",
      "\u001b[1m479/479\u001b[0m \u001b[32m━━━━━━━━━━━━━━━━━━━━\u001b[0m\u001b[37m\u001b[0m \u001b[1m44s\u001b[0m 93ms/step - accuracy: 0.5323 - loss: 1.1710 - val_accuracy: 0.5624 - val_loss: 1.1056\n",
      "Epoch 3/30\n",
      "\u001b[1m479/479\u001b[0m \u001b[32m━━━━━━━━━━━━━━━━━━━━\u001b[0m\u001b[37m\u001b[0m \u001b[1m44s\u001b[0m 92ms/step - accuracy: 0.5623 - loss: 1.1046 - val_accuracy: 0.6046 - val_loss: 1.0114\n",
      "Epoch 4/30\n",
      "\u001b[1m479/479\u001b[0m \u001b[32m━━━━━━━━━━━━━━━━━━━━\u001b[0m\u001b[37m\u001b[0m \u001b[1m44s\u001b[0m 93ms/step - accuracy: 0.5991 - loss: 1.0486 - val_accuracy: 0.5016 - val_loss: 1.2260\n",
      "Epoch 5/30\n",
      "\u001b[1m479/479\u001b[0m \u001b[32m━━━━━━━━━━━━━━━━━━━━\u001b[0m\u001b[37m\u001b[0m \u001b[1m45s\u001b[0m 93ms/step - accuracy: 0.5824 - loss: 1.0679 - val_accuracy: 0.5952 - val_loss: 1.0370\n",
      "Epoch 6/30\n",
      "\u001b[1m479/479\u001b[0m \u001b[32m━━━━━━━━━━━━━━━━━━━━\u001b[0m\u001b[37m\u001b[0m \u001b[1m44s\u001b[0m 93ms/step - accuracy: 0.6149 - loss: 1.0078 - val_accuracy: 0.5931 - val_loss: 1.0083\n",
      "Epoch 7/30\n",
      "\u001b[1m479/479\u001b[0m \u001b[32m━━━━━━━━━━━━━━━━━━━━\u001b[0m\u001b[37m\u001b[0m \u001b[1m45s\u001b[0m 93ms/step - accuracy: 0.6004 - loss: 1.0322 - val_accuracy: 0.6223 - val_loss: 0.9520\n",
      "Epoch 8/30\n",
      "\u001b[1m479/479\u001b[0m \u001b[32m━━━━━━━━━━━━━━━━━━━━\u001b[0m\u001b[37m\u001b[0m \u001b[1m44s\u001b[0m 93ms/step - accuracy: 0.6258 - loss: 0.9599 - val_accuracy: 0.5806 - val_loss: 1.0001\n",
      "Epoch 9/30\n",
      "\u001b[1m479/479\u001b[0m \u001b[32m━━━━━━━━━━━━━━━━━━━━\u001b[0m\u001b[37m\u001b[0m \u001b[1m44s\u001b[0m 92ms/step - accuracy: 0.6119 - loss: 0.9713 - val_accuracy: 0.5354 - val_loss: 1.0816\n",
      "Epoch 10/30\n",
      "\u001b[1m479/479\u001b[0m \u001b[32m━━━━━━━━━━━━━━━━━━━━\u001b[0m\u001b[37m\u001b[0m \u001b[1m44s\u001b[0m 92ms/step - accuracy: 0.6404 - loss: 0.9312 - val_accuracy: 0.6514 - val_loss: 0.8739\n",
      "Epoch 11/30\n",
      "\u001b[1m479/479\u001b[0m \u001b[32m━━━━━━━━━━━━━━━━━━━━\u001b[0m\u001b[37m\u001b[0m \u001b[1m44s\u001b[0m 92ms/step - accuracy: 0.6620 - loss: 0.8778 - val_accuracy: 0.6691 - val_loss: 0.8560\n",
      "Epoch 12/30\n",
      "\u001b[1m479/479\u001b[0m \u001b[32m━━━━━━━━━━━━━━━━━━━━\u001b[0m\u001b[37m\u001b[0m \u001b[1m44s\u001b[0m 92ms/step - accuracy: 0.6767 - loss: 0.8538 - val_accuracy: 0.6785 - val_loss: 0.8143\n",
      "Epoch 13/30\n",
      "\u001b[1m479/479\u001b[0m \u001b[32m━━━━━━━━━━━━━━━━━━━━\u001b[0m\u001b[37m\u001b[0m \u001b[1m44s\u001b[0m 92ms/step - accuracy: 0.6936 - loss: 0.8145 - val_accuracy: 0.6795 - val_loss: 0.8267\n",
      "Epoch 14/30\n",
      "\u001b[1m479/479\u001b[0m \u001b[32m━━━━━━━━━━━━━━━━━━━━\u001b[0m\u001b[37m\u001b[0m \u001b[1m44s\u001b[0m 92ms/step - accuracy: 0.6971 - loss: 0.8138 - val_accuracy: 0.6889 - val_loss: 0.7876\n",
      "Epoch 15/30\n",
      "\u001b[1m479/479\u001b[0m \u001b[32m━━━━━━━━━━━━━━━━━━━━\u001b[0m\u001b[37m\u001b[0m \u001b[1m44s\u001b[0m 92ms/step - accuracy: 0.6917 - loss: 0.8138 - val_accuracy: 0.7066 - val_loss: 0.7593\n",
      "Epoch 16/30\n",
      "\u001b[1m479/479\u001b[0m \u001b[32m━━━━━━━━━━━━━━━━━━━━\u001b[0m\u001b[37m\u001b[0m \u001b[1m44s\u001b[0m 92ms/step - accuracy: 0.7073 - loss: 0.7795 - val_accuracy: 0.7050 - val_loss: 0.7720\n",
      "Epoch 17/30\n",
      "\u001b[1m479/479\u001b[0m \u001b[32m━━━━━━━━━━━━━━━━━━━━\u001b[0m\u001b[37m\u001b[0m \u001b[1m44s\u001b[0m 92ms/step - accuracy: 0.7168 - loss: 0.7636 - val_accuracy: 0.7024 - val_loss: 0.7471\n",
      "Epoch 18/30\n",
      "\u001b[1m479/479\u001b[0m \u001b[32m━━━━━━━━━━━━━━━━━━━━\u001b[0m\u001b[37m\u001b[0m \u001b[1m44s\u001b[0m 92ms/step - accuracy: 0.7240 - loss: 0.7576 - val_accuracy: 0.7201 - val_loss: 0.7431\n",
      "Epoch 19/30\n",
      "\u001b[1m479/479\u001b[0m \u001b[32m━━━━━━━━━━━━━━━━━━━━\u001b[0m\u001b[37m\u001b[0m \u001b[1m44s\u001b[0m 92ms/step - accuracy: 0.7282 - loss: 0.7456 - val_accuracy: 0.6462 - val_loss: 0.8557\n",
      "Epoch 20/30\n",
      "\u001b[1m479/479\u001b[0m \u001b[32m━━━━━━━━━━━━━━━━━━━━\u001b[0m\u001b[37m\u001b[0m \u001b[1m44s\u001b[0m 92ms/step - accuracy: 0.7197 - loss: 0.7519 - val_accuracy: 0.7102 - val_loss: 0.7399\n",
      "Epoch 21/30\n",
      "\u001b[1m479/479\u001b[0m \u001b[32m━━━━━━━━━━━━━━━━━━━━\u001b[0m\u001b[37m\u001b[0m \u001b[1m44s\u001b[0m 92ms/step - accuracy: 0.7327 - loss: 0.7350 - val_accuracy: 0.7305 - val_loss: 0.6891\n",
      "Epoch 22/30\n",
      "\u001b[1m479/479\u001b[0m \u001b[32m━━━━━━━━━━━━━━━━━━━━\u001b[0m\u001b[37m\u001b[0m \u001b[1m44s\u001b[0m 93ms/step - accuracy: 0.7377 - loss: 0.7158 - val_accuracy: 0.7310 - val_loss: 0.6914\n",
      "Epoch 23/30\n",
      "\u001b[1m479/479\u001b[0m \u001b[32m━━━━━━━━━━━━━━━━━━━━\u001b[0m\u001b[37m\u001b[0m \u001b[1m44s\u001b[0m 92ms/step - accuracy: 0.7380 - loss: 0.7091 - val_accuracy: 0.7216 - val_loss: 0.7042\n",
      "Epoch 24/30\n",
      "\u001b[1m479/479\u001b[0m \u001b[32m━━━━━━━━━━━━━━━━━━━━\u001b[0m\u001b[37m\u001b[0m \u001b[1m44s\u001b[0m 92ms/step - accuracy: 0.7465 - loss: 0.7006 - val_accuracy: 0.7149 - val_loss: 0.7192\n",
      "Epoch 25/30\n",
      "\u001b[1m479/479\u001b[0m \u001b[32m━━━━━━━━━━━━━━━━━━━━\u001b[0m\u001b[37m\u001b[0m \u001b[1m44s\u001b[0m 92ms/step - accuracy: 0.7396 - loss: 0.6971 - val_accuracy: 0.7414 - val_loss: 0.6859\n",
      "Epoch 26/30\n",
      "\u001b[1m479/479\u001b[0m \u001b[32m━━━━━━━━━━━━━━━━━━━━\u001b[0m\u001b[37m\u001b[0m \u001b[1m44s\u001b[0m 92ms/step - accuracy: 0.7502 - loss: 0.6806 - val_accuracy: 0.7315 - val_loss: 0.6793\n",
      "Epoch 27/30\n",
      "\u001b[1m479/479\u001b[0m \u001b[32m━━━━━━━━━━━━━━━━━━━━\u001b[0m\u001b[37m\u001b[0m \u001b[1m44s\u001b[0m 92ms/step - accuracy: 0.7559 - loss: 0.6595 - val_accuracy: 0.7133 - val_loss: 0.7321\n",
      "Epoch 28/30\n",
      "\u001b[1m479/479\u001b[0m \u001b[32m━━━━━━━━━━━━━━━━━━━━\u001b[0m\u001b[37m\u001b[0m \u001b[1m44s\u001b[0m 92ms/step - accuracy: 0.7492 - loss: 0.6864 - val_accuracy: 0.7518 - val_loss: 0.6832\n",
      "Epoch 29/30\n",
      "\u001b[1m479/479\u001b[0m \u001b[32m━━━━━━━━━━━━━━━━━━━━\u001b[0m\u001b[37m\u001b[0m \u001b[1m44s\u001b[0m 93ms/step - accuracy: 0.7601 - loss: 0.6666 - val_accuracy: 0.7347 - val_loss: 0.7002\n",
      "Epoch 30/30\n",
      "\u001b[1m479/479\u001b[0m \u001b[32m━━━━━━━━━━━━━━━━━━━━\u001b[0m\u001b[37m\u001b[0m \u001b[1m44s\u001b[0m 93ms/step - accuracy: 0.7652 - loss: 0.6520 - val_accuracy: 0.7419 - val_loss: 0.6904\n",
      "Restoring model weights from the end of the best epoch: 26.\n"
     ]
    }
   ],
   "source": [
    "# ---------------------------\n",
    "# Train the Model\n",
    "# ---------------------------\n",
    "from tensorflow.keras.callbacks import EarlyStopping\n",
    "\n",
    "epochs = 30\n",
    "batch_size = 32\n",
    "\n",
    "early_stopping = EarlyStopping(monitor='val_loss', patience=10, restore_best_weights=True, verbose=1)\n",
    "\n",
    "history = model.fit(\n",
    "    X_train, y_train_cat, \n",
    "    validation_data=(X_val, y_val_cat),\n",
    "    epochs=30, \n",
    "    batch_size=32,\n",
    "    callbacks=[early_stopping]\n",
    ")"
   ]
  },
  {
   "cell_type": "code",
   "execution_count": 11,
   "id": "204a667a",
   "metadata": {
    "execution": {
     "iopub.execute_input": "2025-03-22T20:40:14.379934Z",
     "iopub.status.busy": "2025-03-22T20:40:14.379595Z",
     "iopub.status.idle": "2025-03-22T20:40:17.113276Z",
     "shell.execute_reply": "2025-03-22T20:40:17.112465Z"
    },
    "papermill": {
     "duration": 3.471062,
     "end_time": "2025-03-22T20:40:17.114504",
     "exception": false,
     "start_time": "2025-03-22T20:40:13.643442",
     "status": "completed"
    },
    "tags": []
   },
   "outputs": [
    {
     "name": "stdout",
     "output_type": "stream",
     "text": [
      "\u001b[1m61/61\u001b[0m \u001b[32m━━━━━━━━━━━━━━━━━━━━\u001b[0m\u001b[37m\u001b[0m \u001b[1m3s\u001b[0m 38ms/step\n",
      "Validation F1 Score: 0.7171335629627705\n"
     ]
    }
   ],
   "source": [
    "# ---------------------------\n",
    "# Evaluate Using F1 Score\n",
    "# ---------------------------\n",
    "y_val_pred_prob = model.predict(X_val)\n",
    "y_val_pred = np.argmax(y_val_pred_prob, axis=1)\n",
    "\n",
    "f1 = f1_score(y_val, y_val_pred, average='weighted')\n",
    "print(\"Validation F1 Score:\", f1)"
   ]
  },
  {
   "cell_type": "code",
   "execution_count": 12,
   "id": "59020814",
   "metadata": {
    "execution": {
     "iopub.execute_input": "2025-03-22T20:40:18.541545Z",
     "iopub.status.busy": "2025-03-22T20:40:18.541236Z",
     "iopub.status.idle": "2025-03-22T20:40:21.103945Z",
     "shell.execute_reply": "2025-03-22T20:40:21.103082Z"
    },
    "papermill": {
     "duration": 3.302783,
     "end_time": "2025-03-22T20:40:21.105350",
     "exception": false,
     "start_time": "2025-03-22T20:40:17.802567",
     "status": "completed"
    },
    "tags": []
   },
   "outputs": [
    {
     "name": "stdout",
     "output_type": "stream",
     "text": [
      "Test data shape: (1940, 1000, 3)\n",
      "Test labels shape: (1940,)\n"
     ]
    }
   ],
   "source": [
    "# ---------------------------\n",
    "# Evaluation on Test Data\n",
    "# ---------------------------\n",
    "# Load test datasets\n",
    "test_meta = pd.read_csv('/kaggle/input/ptb-diagnostic-ecg-dataset/test_meta.csv')\n",
    "test_signal = pd.read_csv('/kaggle/input/ptb-diagnostic-ecg-dataset/test_signal.csv')\n",
    "\n",
    "hyp_ids = test_meta[test_meta['HYP'] == 1]['ecg_id']\n",
    "test_signal = test_signal[~test_signal['ecg_id'].isin(hyp_ids)]\n",
    "test_meta = test_meta.drop(columns=['HYP'])\n",
    "test_meta = test_meta[~test_meta['ecg_id'].isin(hyp_ids)]\n",
    "\n",
    "# Process test signal data similarly to training data.\n",
    "grouped_test = test_signal.groupby('ecg_id')\n",
    "X_test = []\n",
    "y_test = []\n",
    "\n",
    "for ecg_id, group in grouped_test:\n",
    "    if len(group) != 1000:\n",
    "        continue\n",
    "    sample = group[['channel-0', 'channel-1', 'channel-3']].to_numpy()\n",
    "    X_test.append(sample)\n",
    "    \n",
    "    # Retrieve label from test_meta; assuming same logic for 'target'\n",
    "    if 'target' not in test_meta.columns:\n",
    "        label_cols = ['NORM', 'MI', 'STTC', 'CD']\n",
    "        test_meta['target'] = test_meta[label_cols].values.argmax(axis=1)\n",
    "    label = test_meta.loc[test_meta['ecg_id'] == ecg_id, 'target'].values\n",
    "    if len(label) == 0:\n",
    "        continue\n",
    "    y_test.append(label[0])\n",
    "\n",
    "X_test = np.array(X_test)\n",
    "y_test = np.array(y_test)\n",
    "\n",
    "print(\"Test data shape:\", X_test.shape)\n",
    "print(\"Test labels shape:\", y_test.shape)"
   ]
  },
  {
   "cell_type": "code",
   "execution_count": 13,
   "id": "fe9aa2f2",
   "metadata": {
    "execution": {
     "iopub.execute_input": "2025-03-22T20:40:22.519923Z",
     "iopub.status.busy": "2025-03-22T20:40:22.519588Z",
     "iopub.status.idle": "2025-03-22T20:40:24.983868Z",
     "shell.execute_reply": "2025-03-22T20:40:24.983017Z"
    },
    "papermill": {
     "duration": 3.2002,
     "end_time": "2025-03-22T20:40:24.985332",
     "exception": false,
     "start_time": "2025-03-22T20:40:21.785132",
     "status": "completed"
    },
    "tags": []
   },
   "outputs": [
    {
     "name": "stdout",
     "output_type": "stream",
     "text": [
      "\u001b[1m61/61\u001b[0m \u001b[32m━━━━━━━━━━━━━━━━━━━━\u001b[0m\u001b[37m\u001b[0m \u001b[1m2s\u001b[0m 37ms/step - accuracy: 0.7313 - loss: 0.7132\n",
      "Test Accuracy: 0.7319587469100952\n"
     ]
    }
   ],
   "source": [
    "# Normalize test data using the same scaler as training data.\n",
    "nsamples_test, nsteps_test, nchannels_test = X_test.shape\n",
    "X_test_reshaped = X_test.reshape(-1, nchannels_test)\n",
    "X_test_scaled = scaler.transform(X_test_reshaped)\n",
    "X_test = X_test_scaled.reshape(nsamples_test, nsteps_test, nchannels_test)\n",
    "\n",
    "y_test_cat = to_categorical(y_test, num_classes=num_classes)\n",
    "\n",
    "# Evaluate the model\n",
    "test_loss, test_acc = model.evaluate(X_test, y_test_cat, batch_size=batch_size)\n",
    "print(\"Test Accuracy:\", test_acc)"
   ]
  },
  {
   "cell_type": "code",
   "execution_count": 14,
   "id": "0bb82056",
   "metadata": {
    "execution": {
     "iopub.execute_input": "2025-03-22T20:40:26.410850Z",
     "iopub.status.busy": "2025-03-22T20:40:26.410521Z",
     "iopub.status.idle": "2025-03-22T20:40:28.587952Z",
     "shell.execute_reply": "2025-03-22T20:40:28.587081Z"
    },
    "papermill": {
     "duration": 2.913913,
     "end_time": "2025-03-22T20:40:28.589340",
     "exception": false,
     "start_time": "2025-03-22T20:40:25.675427",
     "status": "completed"
    },
    "tags": []
   },
   "outputs": [
    {
     "name": "stdout",
     "output_type": "stream",
     "text": [
      "\u001b[1m61/61\u001b[0m \u001b[32m━━━━━━━━━━━━━━━━━━━━\u001b[0m\u001b[37m\u001b[0m \u001b[1m2s\u001b[0m 34ms/step\n",
      "Test F1 Score: 0.7161542666689883\n"
     ]
    }
   ],
   "source": [
    "# Predict on the Test data\n",
    "y_test_pred_prob = model.predict(X_test)\n",
    "y_test_pred = np.argmax(y_test_pred_prob, axis=1)\n",
    "\n",
    "# Calculate the F1 score\n",
    "f1 = f1_score(y_test, y_test_pred, average='weighted')\n",
    "print(\"Test F1 Score:\", f1)"
   ]
  },
  {
   "cell_type": "code",
   "execution_count": 15,
   "id": "5adf63d7",
   "metadata": {
    "execution": {
     "iopub.execute_input": "2025-03-22T20:40:30.053566Z",
     "iopub.status.busy": "2025-03-22T20:40:30.053270Z",
     "iopub.status.idle": "2025-03-22T20:40:30.059646Z",
     "shell.execute_reply": "2025-03-22T20:40:30.058866Z"
    },
    "papermill": {
     "duration": 0.749271,
     "end_time": "2025-03-22T20:40:30.060816",
     "exception": false,
     "start_time": "2025-03-22T20:40:29.311545",
     "status": "completed"
    },
    "tags": []
   },
   "outputs": [
    {
     "name": "stdout",
     "output_type": "stream",
     "text": [
      "Accuracy for class 0: 0.9411\n",
      "Accuracy for class 1: 0.5497\n",
      "Accuracy for class 2: 0.4982\n",
      "Accuracy for class 3: 0.4185\n"
     ]
    }
   ],
   "source": [
    "import numpy as np\n",
    "\n",
    "# Get unique class labels\n",
    "classes = np.unique(y_test)\n",
    "\n",
    "# Compute per-class accuracy\n",
    "class_accuracies = {}\n",
    "for c in classes:\n",
    "    actual_c = (y_test == c)  # Indices where actual class is c\n",
    "    correct_c = np.sum(y_test_pred[actual_c] == c)  # Correctly predicted c\n",
    "    total_c = np.sum(actual_c)  # Total actual occurrences of c\n",
    "    class_accuracies[c] = correct_c / total_c if total_c > 0 else 0\n",
    "\n",
    "# Print results\n",
    "for c, acc in class_accuracies.items():\n",
    "    print(f\"Accuracy for class {c}: {acc:.4f}\")"
   ]
  },
  {
   "cell_type": "code",
   "execution_count": 16,
   "id": "44ef1c95",
   "metadata": {
    "execution": {
     "iopub.execute_input": "2025-03-22T20:40:31.492566Z",
     "iopub.status.busy": "2025-03-22T20:40:31.492286Z",
     "iopub.status.idle": "2025-03-22T20:40:31.495270Z",
     "shell.execute_reply": "2025-03-22T20:40:31.494539Z"
    },
    "papermill": {
     "duration": 0.755939,
     "end_time": "2025-03-22T20:40:31.496448",
     "exception": false,
     "start_time": "2025-03-22T20:40:30.740509",
     "status": "completed"
    },
    "tags": []
   },
   "outputs": [],
   "source": [
    "# Records | Superclass | Description\n",
    "# 9528 | NORM | Normal ECG\n",
    "# 5486 | MI | Myocardial Infarction\n",
    "# 5250 | STTC | ST/T Change\n",
    "# 4907 | CD | Conduction Disturbance"
   ]
  },
  {
   "cell_type": "code",
   "execution_count": 17,
   "id": "1338c9d3",
   "metadata": {
    "execution": {
     "iopub.execute_input": "2025-03-22T20:40:32.905331Z",
     "iopub.status.busy": "2025-03-22T20:40:32.905033Z",
     "iopub.status.idle": "2025-03-22T20:40:32.969381Z",
     "shell.execute_reply": "2025-03-22T20:40:32.968711Z"
    },
    "papermill": {
     "duration": 0.796261,
     "end_time": "2025-03-22T20:40:32.970670",
     "exception": false,
     "start_time": "2025-03-22T20:40:32.174409",
     "status": "completed"
    },
    "tags": []
   },
   "outputs": [],
   "source": [
    "# Save the model\n",
    "model.save(\"disease_detection_lstm_model.h5\")"
   ]
  },
  {
   "cell_type": "markdown",
   "id": "7a40edf9",
   "metadata": {
    "papermill": {
     "duration": 0.737798,
     "end_time": "2025-03-22T20:40:34.390308",
     "exception": false,
     "start_time": "2025-03-22T20:40:33.652510",
     "status": "completed"
    },
    "tags": []
   },
   "source": [
    "# Model to Detect only Abnormality or Not"
   ]
  },
  {
   "cell_type": "code",
   "execution_count": 18,
   "id": "b07676b6",
   "metadata": {
    "execution": {
     "iopub.execute_input": "2025-03-22T20:40:35.830694Z",
     "iopub.status.busy": "2025-03-22T20:40:35.830325Z",
     "iopub.status.idle": "2025-03-22T20:40:35.841175Z",
     "shell.execute_reply": "2025-03-22T20:40:35.840501Z"
    },
    "papermill": {
     "duration": 0.759579,
     "end_time": "2025-03-22T20:40:35.842382",
     "exception": false,
     "start_time": "2025-03-22T20:40:35.082803",
     "status": "completed"
    },
    "tags": []
   },
   "outputs": [],
   "source": [
    "train_meta['target'] = train_meta['target'].apply(lambda x: 1 if x != 0 else 0)\n",
    "train_meta = train_meta.drop(columns=['NORM', 'MI', 'STTC', 'CD'])"
   ]
  },
  {
   "cell_type": "code",
   "execution_count": 19,
   "id": "60ad9f02",
   "metadata": {
    "execution": {
     "iopub.execute_input": "2025-03-22T20:40:37.260028Z",
     "iopub.status.busy": "2025-03-22T20:40:37.259718Z",
     "iopub.status.idle": "2025-03-22T20:40:37.265397Z",
     "shell.execute_reply": "2025-03-22T20:40:37.264667Z"
    },
    "papermill": {
     "duration": 0.740059,
     "end_time": "2025-03-22T20:40:37.266708",
     "exception": false,
     "start_time": "2025-03-22T20:40:36.526649",
     "status": "completed"
    },
    "tags": []
   },
   "outputs": [],
   "source": [
    "val_meta['target'] = val_meta['target'].apply(lambda x: 1 if x != 0 else 0)\n",
    "val_meta = val_meta.drop(columns=['NORM', 'MI', 'STTC', 'CD'])"
   ]
  },
  {
   "cell_type": "code",
   "execution_count": 20,
   "id": "e4f1fb6f",
   "metadata": {
    "execution": {
     "iopub.execute_input": "2025-03-22T20:40:38.681958Z",
     "iopub.status.busy": "2025-03-22T20:40:38.681609Z",
     "iopub.status.idle": "2025-03-22T20:40:51.110379Z",
     "shell.execute_reply": "2025-03-22T20:40:51.109569Z"
    },
    "papermill": {
     "duration": 13.166839,
     "end_time": "2025-03-22T20:40:51.111709",
     "exception": false,
     "start_time": "2025-03-22T20:40:37.944870",
     "status": "completed"
    },
    "tags": []
   },
   "outputs": [
    {
     "name": "stdout",
     "output_type": "stream",
     "text": [
      "Training data shape: (15320, 1000, 3)\n",
      "Training labels shape: (15320,)\n"
     ]
    }
   ],
   "source": [
    "# Prepare training data\n",
    "X_train, y_train = [], []\n",
    "grouped = train_signal.groupby('ecg_id')\n",
    "for ecg_id, group in grouped:\n",
    "    if len(group) != 1000:\n",
    "        continue\n",
    "    sample = group[['channel-0', 'channel-1', 'channel-3']].to_numpy()\n",
    "    X_train.append(sample)\n",
    "    \n",
    "    label = train_meta.loc[train_meta['ecg_id'] == ecg_id, 'target'].values\n",
    "    if len(label) == 0:\n",
    "        continue\n",
    "    y_train.append(label[0])\n",
    "\n",
    "X_train = np.array(X_train)  # Shape: (num_train_samples, 1000, 3)\n",
    "y_train = np.array(y_train)\n",
    "\n",
    "print(\"Training data shape:\", X_train.shape)\n",
    "print(\"Training labels shape:\", y_train.shape)"
   ]
  },
  {
   "cell_type": "code",
   "execution_count": 21,
   "id": "3c62431a",
   "metadata": {
    "execution": {
     "iopub.execute_input": "2025-03-22T20:40:52.509987Z",
     "iopub.status.busy": "2025-03-22T20:40:52.509636Z",
     "iopub.status.idle": "2025-03-22T20:40:53.902685Z",
     "shell.execute_reply": "2025-03-22T20:40:53.901819Z"
    },
    "papermill": {
     "duration": 2.116639,
     "end_time": "2025-03-22T20:40:53.904022",
     "exception": false,
     "start_time": "2025-03-22T20:40:51.787383",
     "status": "completed"
    },
    "tags": []
   },
   "outputs": [
    {
     "name": "stdout",
     "output_type": "stream",
     "text": [
      "Validation data shape: (1922, 1000, 3)\n",
      "Validation labels shape: (1922,)\n"
     ]
    }
   ],
   "source": [
    "X_val, y_val = [], []\n",
    "grouped_val = val_signal.groupby('ecg_id')\n",
    "for ecg_id, group in grouped_val:\n",
    "    if len(group) != 1000:\n",
    "        continue\n",
    "    sample = group[['channel-0', 'channel-1', 'channel-3']].to_numpy()\n",
    "    X_val.append(sample)\n",
    "    \n",
    "    label = val_meta.loc[val_meta['ecg_id'] == ecg_id, 'target'].values\n",
    "    if len(label) == 0:\n",
    "        continue\n",
    "    y_val.append(label[0])\n",
    "\n",
    "X_val = np.array(X_val)  # Shape: (num_val_samples, 1000, 3)\n",
    "y_val = np.array(y_val)\n",
    "\n",
    "print(\"Validation data shape:\", X_val.shape)\n",
    "print(\"Validation labels shape:\", y_val.shape)"
   ]
  },
  {
   "cell_type": "code",
   "execution_count": 22,
   "id": "5f66285a",
   "metadata": {
    "execution": {
     "iopub.execute_input": "2025-03-22T20:40:55.309818Z",
     "iopub.status.busy": "2025-03-22T20:40:55.309527Z",
     "iopub.status.idle": "2025-03-22T20:40:55.313995Z",
     "shell.execute_reply": "2025-03-22T20:40:55.313344Z"
    },
    "papermill": {
     "duration": 0.729213,
     "end_time": "2025-03-22T20:40:55.315335",
     "exception": false,
     "start_time": "2025-03-22T20:40:54.586122",
     "status": "completed"
    },
    "tags": []
   },
   "outputs": [],
   "source": [
    "# ---------------------------\n",
    "# Convert Labels to One-Hot Encoding\n",
    "# ---------------------------\n",
    "num_classes = len(np.unique(y_train))\n",
    "y_train_cat = to_categorical(y_train, num_classes=num_classes)\n",
    "y_val_cat = to_categorical(y_val, num_classes=num_classes)"
   ]
  },
  {
   "cell_type": "code",
   "execution_count": 23,
   "id": "cff0be6f",
   "metadata": {
    "execution": {
     "iopub.execute_input": "2025-03-22T20:40:56.713133Z",
     "iopub.status.busy": "2025-03-22T20:40:56.712657Z",
     "iopub.status.idle": "2025-03-22T20:40:56.834744Z",
     "shell.execute_reply": "2025-03-22T20:40:56.834088Z"
    },
    "papermill": {
     "duration": 0.845779,
     "end_time": "2025-03-22T20:40:56.836002",
     "exception": false,
     "start_time": "2025-03-22T20:40:55.990223",
     "status": "completed"
    },
    "tags": []
   },
   "outputs": [
    {
     "data": {
      "text/html": [
       "<pre style=\"white-space:pre;overflow-x:auto;line-height:normal;font-family:Menlo,'DejaVu Sans Mono',consolas,'Courier New',monospace\"><span style=\"font-weight: bold\">Model: \"sequential_1\"</span>\n",
       "</pre>\n"
      ],
      "text/plain": [
       "\u001b[1mModel: \"sequential_1\"\u001b[0m\n"
      ]
     },
     "metadata": {},
     "output_type": "display_data"
    },
    {
     "data": {
      "text/html": [
       "<pre style=\"white-space:pre;overflow-x:auto;line-height:normal;font-family:Menlo,'DejaVu Sans Mono',consolas,'Courier New',monospace\">┏━━━━━━━━━━━━━━━━━━━━━━━━━━━━━━━━━━━━━━┳━━━━━━━━━━━━━━━━━━━━━━━━━━━━━┳━━━━━━━━━━━━━━━━━┓\n",
       "┃<span style=\"font-weight: bold\"> Layer (type)                         </span>┃<span style=\"font-weight: bold\"> Output Shape                </span>┃<span style=\"font-weight: bold\">         Param # </span>┃\n",
       "┡━━━━━━━━━━━━━━━━━━━━━━━━━━━━━━━━━━━━━━╇━━━━━━━━━━━━━━━━━━━━━━━━━━━━━╇━━━━━━━━━━━━━━━━━┩\n",
       "│ lstm_3 (<span style=\"color: #0087ff; text-decoration-color: #0087ff\">LSTM</span>)                        │ (<span style=\"color: #00d7ff; text-decoration-color: #00d7ff\">None</span>, <span style=\"color: #00af00; text-decoration-color: #00af00\">1000</span>, <span style=\"color: #00af00; text-decoration-color: #00af00\">64</span>)            │          <span style=\"color: #00af00; text-decoration-color: #00af00\">17,408</span> │\n",
       "├──────────────────────────────────────┼─────────────────────────────┼─────────────────┤\n",
       "│ batch_normalization_3                │ (<span style=\"color: #00d7ff; text-decoration-color: #00d7ff\">None</span>, <span style=\"color: #00af00; text-decoration-color: #00af00\">1000</span>, <span style=\"color: #00af00; text-decoration-color: #00af00\">64</span>)            │             <span style=\"color: #00af00; text-decoration-color: #00af00\">256</span> │\n",
       "│ (<span style=\"color: #0087ff; text-decoration-color: #0087ff\">BatchNormalization</span>)                 │                             │                 │\n",
       "├──────────────────────────────────────┼─────────────────────────────┼─────────────────┤\n",
       "│ dropout_5 (<span style=\"color: #0087ff; text-decoration-color: #0087ff\">Dropout</span>)                  │ (<span style=\"color: #00d7ff; text-decoration-color: #00d7ff\">None</span>, <span style=\"color: #00af00; text-decoration-color: #00af00\">1000</span>, <span style=\"color: #00af00; text-decoration-color: #00af00\">64</span>)            │               <span style=\"color: #00af00; text-decoration-color: #00af00\">0</span> │\n",
       "├──────────────────────────────────────┼─────────────────────────────┼─────────────────┤\n",
       "│ lstm_4 (<span style=\"color: #0087ff; text-decoration-color: #0087ff\">LSTM</span>)                        │ (<span style=\"color: #00d7ff; text-decoration-color: #00d7ff\">None</span>, <span style=\"color: #00af00; text-decoration-color: #00af00\">1000</span>, <span style=\"color: #00af00; text-decoration-color: #00af00\">128</span>)           │          <span style=\"color: #00af00; text-decoration-color: #00af00\">98,816</span> │\n",
       "├──────────────────────────────────────┼─────────────────────────────┼─────────────────┤\n",
       "│ batch_normalization_4                │ (<span style=\"color: #00d7ff; text-decoration-color: #00d7ff\">None</span>, <span style=\"color: #00af00; text-decoration-color: #00af00\">1000</span>, <span style=\"color: #00af00; text-decoration-color: #00af00\">128</span>)           │             <span style=\"color: #00af00; text-decoration-color: #00af00\">512</span> │\n",
       "│ (<span style=\"color: #0087ff; text-decoration-color: #0087ff\">BatchNormalization</span>)                 │                             │                 │\n",
       "├──────────────────────────────────────┼─────────────────────────────┼─────────────────┤\n",
       "│ dropout_6 (<span style=\"color: #0087ff; text-decoration-color: #0087ff\">Dropout</span>)                  │ (<span style=\"color: #00d7ff; text-decoration-color: #00d7ff\">None</span>, <span style=\"color: #00af00; text-decoration-color: #00af00\">1000</span>, <span style=\"color: #00af00; text-decoration-color: #00af00\">128</span>)           │               <span style=\"color: #00af00; text-decoration-color: #00af00\">0</span> │\n",
       "├──────────────────────────────────────┼─────────────────────────────┼─────────────────┤\n",
       "│ lstm_5 (<span style=\"color: #0087ff; text-decoration-color: #0087ff\">LSTM</span>)                        │ (<span style=\"color: #00d7ff; text-decoration-color: #00d7ff\">None</span>, <span style=\"color: #00af00; text-decoration-color: #00af00\">128</span>)                 │         <span style=\"color: #00af00; text-decoration-color: #00af00\">131,584</span> │\n",
       "├──────────────────────────────────────┼─────────────────────────────┼─────────────────┤\n",
       "│ batch_normalization_5                │ (<span style=\"color: #00d7ff; text-decoration-color: #00d7ff\">None</span>, <span style=\"color: #00af00; text-decoration-color: #00af00\">128</span>)                 │             <span style=\"color: #00af00; text-decoration-color: #00af00\">512</span> │\n",
       "│ (<span style=\"color: #0087ff; text-decoration-color: #0087ff\">BatchNormalization</span>)                 │                             │                 │\n",
       "├──────────────────────────────────────┼─────────────────────────────┼─────────────────┤\n",
       "│ dropout_7 (<span style=\"color: #0087ff; text-decoration-color: #0087ff\">Dropout</span>)                  │ (<span style=\"color: #00d7ff; text-decoration-color: #00d7ff\">None</span>, <span style=\"color: #00af00; text-decoration-color: #00af00\">128</span>)                 │               <span style=\"color: #00af00; text-decoration-color: #00af00\">0</span> │\n",
       "├──────────────────────────────────────┼─────────────────────────────┼─────────────────┤\n",
       "│ dense_3 (<span style=\"color: #0087ff; text-decoration-color: #0087ff\">Dense</span>)                      │ (<span style=\"color: #00d7ff; text-decoration-color: #00d7ff\">None</span>, <span style=\"color: #00af00; text-decoration-color: #00af00\">256</span>)                 │          <span style=\"color: #00af00; text-decoration-color: #00af00\">33,024</span> │\n",
       "├──────────────────────────────────────┼─────────────────────────────┼─────────────────┤\n",
       "│ dropout_8 (<span style=\"color: #0087ff; text-decoration-color: #0087ff\">Dropout</span>)                  │ (<span style=\"color: #00d7ff; text-decoration-color: #00d7ff\">None</span>, <span style=\"color: #00af00; text-decoration-color: #00af00\">256</span>)                 │               <span style=\"color: #00af00; text-decoration-color: #00af00\">0</span> │\n",
       "├──────────────────────────────────────┼─────────────────────────────┼─────────────────┤\n",
       "│ dense_4 (<span style=\"color: #0087ff; text-decoration-color: #0087ff\">Dense</span>)                      │ (<span style=\"color: #00d7ff; text-decoration-color: #00d7ff\">None</span>, <span style=\"color: #00af00; text-decoration-color: #00af00\">128</span>)                 │          <span style=\"color: #00af00; text-decoration-color: #00af00\">32,896</span> │\n",
       "├──────────────────────────────────────┼─────────────────────────────┼─────────────────┤\n",
       "│ dropout_9 (<span style=\"color: #0087ff; text-decoration-color: #0087ff\">Dropout</span>)                  │ (<span style=\"color: #00d7ff; text-decoration-color: #00d7ff\">None</span>, <span style=\"color: #00af00; text-decoration-color: #00af00\">128</span>)                 │               <span style=\"color: #00af00; text-decoration-color: #00af00\">0</span> │\n",
       "├──────────────────────────────────────┼─────────────────────────────┼─────────────────┤\n",
       "│ dense_5 (<span style=\"color: #0087ff; text-decoration-color: #0087ff\">Dense</span>)                      │ (<span style=\"color: #00d7ff; text-decoration-color: #00d7ff\">None</span>, <span style=\"color: #00af00; text-decoration-color: #00af00\">2</span>)                   │             <span style=\"color: #00af00; text-decoration-color: #00af00\">258</span> │\n",
       "└──────────────────────────────────────┴─────────────────────────────┴─────────────────┘\n",
       "</pre>\n"
      ],
      "text/plain": [
       "┏━━━━━━━━━━━━━━━━━━━━━━━━━━━━━━━━━━━━━━┳━━━━━━━━━━━━━━━━━━━━━━━━━━━━━┳━━━━━━━━━━━━━━━━━┓\n",
       "┃\u001b[1m \u001b[0m\u001b[1mLayer (type)                        \u001b[0m\u001b[1m \u001b[0m┃\u001b[1m \u001b[0m\u001b[1mOutput Shape               \u001b[0m\u001b[1m \u001b[0m┃\u001b[1m \u001b[0m\u001b[1m        Param #\u001b[0m\u001b[1m \u001b[0m┃\n",
       "┡━━━━━━━━━━━━━━━━━━━━━━━━━━━━━━━━━━━━━━╇━━━━━━━━━━━━━━━━━━━━━━━━━━━━━╇━━━━━━━━━━━━━━━━━┩\n",
       "│ lstm_3 (\u001b[38;5;33mLSTM\u001b[0m)                        │ (\u001b[38;5;45mNone\u001b[0m, \u001b[38;5;34m1000\u001b[0m, \u001b[38;5;34m64\u001b[0m)            │          \u001b[38;5;34m17,408\u001b[0m │\n",
       "├──────────────────────────────────────┼─────────────────────────────┼─────────────────┤\n",
       "│ batch_normalization_3                │ (\u001b[38;5;45mNone\u001b[0m, \u001b[38;5;34m1000\u001b[0m, \u001b[38;5;34m64\u001b[0m)            │             \u001b[38;5;34m256\u001b[0m │\n",
       "│ (\u001b[38;5;33mBatchNormalization\u001b[0m)                 │                             │                 │\n",
       "├──────────────────────────────────────┼─────────────────────────────┼─────────────────┤\n",
       "│ dropout_5 (\u001b[38;5;33mDropout\u001b[0m)                  │ (\u001b[38;5;45mNone\u001b[0m, \u001b[38;5;34m1000\u001b[0m, \u001b[38;5;34m64\u001b[0m)            │               \u001b[38;5;34m0\u001b[0m │\n",
       "├──────────────────────────────────────┼─────────────────────────────┼─────────────────┤\n",
       "│ lstm_4 (\u001b[38;5;33mLSTM\u001b[0m)                        │ (\u001b[38;5;45mNone\u001b[0m, \u001b[38;5;34m1000\u001b[0m, \u001b[38;5;34m128\u001b[0m)           │          \u001b[38;5;34m98,816\u001b[0m │\n",
       "├──────────────────────────────────────┼─────────────────────────────┼─────────────────┤\n",
       "│ batch_normalization_4                │ (\u001b[38;5;45mNone\u001b[0m, \u001b[38;5;34m1000\u001b[0m, \u001b[38;5;34m128\u001b[0m)           │             \u001b[38;5;34m512\u001b[0m │\n",
       "│ (\u001b[38;5;33mBatchNormalization\u001b[0m)                 │                             │                 │\n",
       "├──────────────────────────────────────┼─────────────────────────────┼─────────────────┤\n",
       "│ dropout_6 (\u001b[38;5;33mDropout\u001b[0m)                  │ (\u001b[38;5;45mNone\u001b[0m, \u001b[38;5;34m1000\u001b[0m, \u001b[38;5;34m128\u001b[0m)           │               \u001b[38;5;34m0\u001b[0m │\n",
       "├──────────────────────────────────────┼─────────────────────────────┼─────────────────┤\n",
       "│ lstm_5 (\u001b[38;5;33mLSTM\u001b[0m)                        │ (\u001b[38;5;45mNone\u001b[0m, \u001b[38;5;34m128\u001b[0m)                 │         \u001b[38;5;34m131,584\u001b[0m │\n",
       "├──────────────────────────────────────┼─────────────────────────────┼─────────────────┤\n",
       "│ batch_normalization_5                │ (\u001b[38;5;45mNone\u001b[0m, \u001b[38;5;34m128\u001b[0m)                 │             \u001b[38;5;34m512\u001b[0m │\n",
       "│ (\u001b[38;5;33mBatchNormalization\u001b[0m)                 │                             │                 │\n",
       "├──────────────────────────────────────┼─────────────────────────────┼─────────────────┤\n",
       "│ dropout_7 (\u001b[38;5;33mDropout\u001b[0m)                  │ (\u001b[38;5;45mNone\u001b[0m, \u001b[38;5;34m128\u001b[0m)                 │               \u001b[38;5;34m0\u001b[0m │\n",
       "├──────────────────────────────────────┼─────────────────────────────┼─────────────────┤\n",
       "│ dense_3 (\u001b[38;5;33mDense\u001b[0m)                      │ (\u001b[38;5;45mNone\u001b[0m, \u001b[38;5;34m256\u001b[0m)                 │          \u001b[38;5;34m33,024\u001b[0m │\n",
       "├──────────────────────────────────────┼─────────────────────────────┼─────────────────┤\n",
       "│ dropout_8 (\u001b[38;5;33mDropout\u001b[0m)                  │ (\u001b[38;5;45mNone\u001b[0m, \u001b[38;5;34m256\u001b[0m)                 │               \u001b[38;5;34m0\u001b[0m │\n",
       "├──────────────────────────────────────┼─────────────────────────────┼─────────────────┤\n",
       "│ dense_4 (\u001b[38;5;33mDense\u001b[0m)                      │ (\u001b[38;5;45mNone\u001b[0m, \u001b[38;5;34m128\u001b[0m)                 │          \u001b[38;5;34m32,896\u001b[0m │\n",
       "├──────────────────────────────────────┼─────────────────────────────┼─────────────────┤\n",
       "│ dropout_9 (\u001b[38;5;33mDropout\u001b[0m)                  │ (\u001b[38;5;45mNone\u001b[0m, \u001b[38;5;34m128\u001b[0m)                 │               \u001b[38;5;34m0\u001b[0m │\n",
       "├──────────────────────────────────────┼─────────────────────────────┼─────────────────┤\n",
       "│ dense_5 (\u001b[38;5;33mDense\u001b[0m)                      │ (\u001b[38;5;45mNone\u001b[0m, \u001b[38;5;34m2\u001b[0m)                   │             \u001b[38;5;34m258\u001b[0m │\n",
       "└──────────────────────────────────────┴─────────────────────────────┴─────────────────┘\n"
      ]
     },
     "metadata": {},
     "output_type": "display_data"
    },
    {
     "data": {
      "text/html": [
       "<pre style=\"white-space:pre;overflow-x:auto;line-height:normal;font-family:Menlo,'DejaVu Sans Mono',consolas,'Courier New',monospace\"><span style=\"font-weight: bold\"> Total params: </span><span style=\"color: #00af00; text-decoration-color: #00af00\">315,266</span> (1.20 MB)\n",
       "</pre>\n"
      ],
      "text/plain": [
       "\u001b[1m Total params: \u001b[0m\u001b[38;5;34m315,266\u001b[0m (1.20 MB)\n"
      ]
     },
     "metadata": {},
     "output_type": "display_data"
    },
    {
     "data": {
      "text/html": [
       "<pre style=\"white-space:pre;overflow-x:auto;line-height:normal;font-family:Menlo,'DejaVu Sans Mono',consolas,'Courier New',monospace\"><span style=\"font-weight: bold\"> Trainable params: </span><span style=\"color: #00af00; text-decoration-color: #00af00\">314,626</span> (1.20 MB)\n",
       "</pre>\n"
      ],
      "text/plain": [
       "\u001b[1m Trainable params: \u001b[0m\u001b[38;5;34m314,626\u001b[0m (1.20 MB)\n"
      ]
     },
     "metadata": {},
     "output_type": "display_data"
    },
    {
     "data": {
      "text/html": [
       "<pre style=\"white-space:pre;overflow-x:auto;line-height:normal;font-family:Menlo,'DejaVu Sans Mono',consolas,'Courier New',monospace\"><span style=\"font-weight: bold\"> Non-trainable params: </span><span style=\"color: #00af00; text-decoration-color: #00af00\">640</span> (2.50 KB)\n",
       "</pre>\n"
      ],
      "text/plain": [
       "\u001b[1m Non-trainable params: \u001b[0m\u001b[38;5;34m640\u001b[0m (2.50 KB)\n"
      ]
     },
     "metadata": {},
     "output_type": "display_data"
    }
   ],
   "source": [
    "# ---------------------------\n",
    "# Build an LSTM Model\n",
    "# ---------------------------\n",
    "model = Sequential([\n",
    "    LSTM(64, return_sequences=True, input_shape=(1000, 3)),\n",
    "    BatchNormalization(),\n",
    "    Dropout(0.3),\n",
    "    \n",
    "    LSTM(128, return_sequences=True),\n",
    "    BatchNormalization(),\n",
    "    Dropout(0.3),\n",
    "    \n",
    "    LSTM(128),\n",
    "    BatchNormalization(),\n",
    "    Dropout(0.3),\n",
    "    \n",
    "    Dense(256, activation='relu'),\n",
    "    Dropout(0.5),\n",
    "    \n",
    "    Dense(128, activation='relu'),\n",
    "    Dropout(0.5),\n",
    "    \n",
    "    Dense(num_classes, activation='softmax')\n",
    "])\n",
    "\n",
    "model.compile(optimizer=Adam(learning_rate=0.001),\n",
    "              loss='categorical_crossentropy',\n",
    "              metrics=['accuracy'])\n",
    "\n",
    "model.summary()"
   ]
  },
  {
   "cell_type": "code",
   "execution_count": 24,
   "id": "1278e8cc",
   "metadata": {
    "execution": {
     "iopub.execute_input": "2025-03-22T20:40:58.286772Z",
     "iopub.status.busy": "2025-03-22T20:40:58.286343Z",
     "iopub.status.idle": "2025-03-22T20:40:58.666462Z",
     "shell.execute_reply": "2025-03-22T20:40:58.665481Z"
    },
    "papermill": {
     "duration": 1.159047,
     "end_time": "2025-03-22T20:40:58.669340",
     "exception": false,
     "start_time": "2025-03-22T20:40:57.510293",
     "status": "completed"
    },
    "tags": []
   },
   "outputs": [
    {
     "data": {
      "image/png": "[encoded data removed]",
      "text/plain": [
       "<IPython.core.display.Image object>"
      ]
     },
     "execution_count": 24,
     "metadata": {},
     "output_type": "execute_result"
    }
   ],
   "source": [
    "from tensorflow.keras.utils import plot_model\n",
    "\n",
    "# Save and display the model architecture\n",
    "plot_model(model, to_file='model_architecture.png', show_shapes=True, show_layer_names=True, dpi=96)"
   ]
  },
  {
   "cell_type": "code",
   "execution_count": 25,
   "id": "dc7ae57f",
   "metadata": {
    "execution": {
     "iopub.execute_input": "2025-03-22T20:41:00.165253Z",
     "iopub.status.busy": "2025-03-22T20:41:00.164719Z",
     "iopub.status.idle": "2025-03-22T20:51:26.414443Z",
     "shell.execute_reply": "2025-03-22T20:51:26.413774Z"
    },
    "papermill": {
     "duration": 626.988053,
     "end_time": "2025-03-22T20:51:26.415648",
     "exception": false,
     "start_time": "2025-03-22T20:40:59.427595",
     "status": "completed"
    },
    "tags": []
   },
   "outputs": [
    {
     "name": "stdout",
     "output_type": "stream",
     "text": [
      "Epoch 1/30\n",
      "\u001b[1m479/479\u001b[0m \u001b[32m━━━━━━━━━━━━━━━━━━━━\u001b[0m\u001b[37m\u001b[0m \u001b[1m49s\u001b[0m 94ms/step - accuracy: 0.5151 - loss: 0.8301 - val_accuracy: 0.5260 - val_loss: 0.6927\n",
      "Epoch 2/30\n",
      "\u001b[1m479/479\u001b[0m \u001b[32m━━━━━━━━━━━━━━━━━━━━\u001b[0m\u001b[37m\u001b[0m \u001b[1m44s\u001b[0m 92ms/step - accuracy: 0.5773 - loss: 0.6792 - val_accuracy: 0.6191 - val_loss: 0.6696\n",
      "Epoch 3/30\n",
      "\u001b[1m479/479\u001b[0m \u001b[32m━━━━━━━━━━━━━━━━━━━━\u001b[0m\u001b[37m\u001b[0m \u001b[1m45s\u001b[0m 93ms/step - accuracy: 0.6418 - loss: 0.6483 - val_accuracy: 0.5359 - val_loss: 0.7017\n",
      "Epoch 4/30\n",
      "\u001b[1m479/479\u001b[0m \u001b[32m━━━━━━━━━━━━━━━━━━━━\u001b[0m\u001b[37m\u001b[0m \u001b[1m44s\u001b[0m 92ms/step - accuracy: 0.6200 - loss: 0.6491 - val_accuracy: 0.6400 - val_loss: 0.6390\n",
      "Epoch 5/30\n",
      "\u001b[1m479/479\u001b[0m \u001b[32m━━━━━━━━━━━━━━━━━━━━\u001b[0m\u001b[37m\u001b[0m \u001b[1m44s\u001b[0m 93ms/step - accuracy: 0.6074 - loss: 0.6600 - val_accuracy: 0.5869 - val_loss: 0.6741\n",
      "Epoch 6/30\n",
      "\u001b[1m479/479\u001b[0m \u001b[32m━━━━━━━━━━━━━━━━━━━━\u001b[0m\u001b[37m\u001b[0m \u001b[1m44s\u001b[0m 92ms/step - accuracy: 0.6298 - loss: 0.6448 - val_accuracy: 0.5177 - val_loss: 0.7232\n",
      "Epoch 7/30\n",
      "\u001b[1m479/479\u001b[0m \u001b[32m━━━━━━━━━━━━━━━━━━━━\u001b[0m\u001b[37m\u001b[0m \u001b[1m44s\u001b[0m 93ms/step - accuracy: 0.6466 - loss: 0.6399 - val_accuracy: 0.4880 - val_loss: 0.6986\n",
      "Epoch 8/30\n",
      "\u001b[1m479/479\u001b[0m \u001b[32m━━━━━━━━━━━━━━━━━━━━\u001b[0m\u001b[37m\u001b[0m \u001b[1m44s\u001b[0m 92ms/step - accuracy: 0.5108 - loss: 0.6948 - val_accuracy: 0.4948 - val_loss: 0.6937\n",
      "Epoch 9/30\n",
      "\u001b[1m479/479\u001b[0m \u001b[32m━━━━━━━━━━━━━━━━━━━━\u001b[0m\u001b[37m\u001b[0m \u001b[1m44s\u001b[0m 93ms/step - accuracy: 0.5139 - loss: 0.6939 - val_accuracy: 0.5166 - val_loss: 0.6920\n",
      "Epoch 10/30\n",
      "\u001b[1m479/479\u001b[0m \u001b[32m━━━━━━━━━━━━━━━━━━━━\u001b[0m\u001b[37m\u001b[0m \u001b[1m44s\u001b[0m 93ms/step - accuracy: 0.5154 - loss: 0.6921 - val_accuracy: 0.5510 - val_loss: 0.6812\n",
      "Epoch 11/30\n",
      "\u001b[1m479/479\u001b[0m \u001b[32m━━━━━━━━━━━━━━━━━━━━\u001b[0m\u001b[37m\u001b[0m \u001b[1m44s\u001b[0m 93ms/step - accuracy: 0.5476 - loss: 0.6846 - val_accuracy: 0.5978 - val_loss: 0.6711\n",
      "Epoch 12/30\n",
      "\u001b[1m479/479\u001b[0m \u001b[32m━━━━━━━━━━━━━━━━━━━━\u001b[0m\u001b[37m\u001b[0m \u001b[1m45s\u001b[0m 93ms/step - accuracy: 0.6158 - loss: 0.6597 - val_accuracy: 0.4807 - val_loss: 0.7015\n",
      "Epoch 13/30\n",
      "\u001b[1m479/479\u001b[0m \u001b[32m━━━━━━━━━━━━━━━━━━━━\u001b[0m\u001b[37m\u001b[0m \u001b[1m44s\u001b[0m 93ms/step - accuracy: 0.6617 - loss: 0.6163 - val_accuracy: 0.5385 - val_loss: 0.8175\n",
      "Epoch 14/30\n",
      "\u001b[1m479/479\u001b[0m \u001b[32m━━━━━━━━━━━━━━━━━━━━\u001b[0m\u001b[37m\u001b[0m \u001b[1m44s\u001b[0m 93ms/step - accuracy: 0.6521 - loss: 0.6105 - val_accuracy: 0.5224 - val_loss: 0.7276\n",
      "Epoch 14: early stopping\n",
      "Restoring model weights from the end of the best epoch: 4.\n"
     ]
    }
   ],
   "source": [
    "# ---------------------------\n",
    "# Train the Model\n",
    "# ---------------------------\n",
    "from tensorflow.keras.callbacks import EarlyStopping\n",
    "\n",
    "epochs = 30\n",
    "batch_size = 32\n",
    "\n",
    "early_stopping = EarlyStopping(monitor='val_loss', patience=10, restore_best_weights=True, verbose=1)\n",
    "\n",
    "history = model.fit(\n",
    "    X_train, y_train_cat, \n",
    "    validation_data=(X_val, y_val_cat),\n",
    "    epochs=30, \n",
    "    batch_size=32,\n",
    "    callbacks=[early_stopping]\n",
    ")\n"
   ]
  },
  {
   "cell_type": "code",
   "execution_count": 26,
   "id": "2c2042fc",
   "metadata": {
    "execution": {
     "iopub.execute_input": "2025-03-22T20:51:28.634894Z",
     "iopub.status.busy": "2025-03-22T20:51:28.634574Z",
     "iopub.status.idle": "2025-03-22T20:51:29.410460Z",
     "shell.execute_reply": "2025-03-22T20:51:29.409473Z"
    },
    "papermill": {
     "duration": 1.929798,
     "end_time": "2025-03-22T20:51:29.412453",
     "exception": false,
     "start_time": "2025-03-22T20:51:27.482655",
     "status": "completed"
    },
    "tags": []
   },
   "outputs": [
    {
     "data": {
      "image/png": "[encoded data removed]",
      "text/plain": [
       "<Figure size 1200x500 with 2 Axes>"
      ]
     },
     "metadata": {},
     "output_type": "display_data"
    }
   ],
   "source": [
    "import matplotlib.pyplot as plt\n",
    "\n",
    "# Extract values from history\n",
    "train_loss = history.history['loss']\n",
    "val_loss = history.history['val_loss']\n",
    "train_acc = history.history['accuracy']\n",
    "val_acc = history.history['val_accuracy']\n",
    "\n",
    "# Plot Loss Curves\n",
    "plt.figure(figsize=(12, 5))\n",
    "plt.subplot(1, 2, 1)\n",
    "plt.plot(train_loss, label='Train Loss')\n",
    "plt.plot(val_loss, label='Val Loss', linestyle='dashed')\n",
    "plt.xlabel('Epochs')\n",
    "plt.ylabel('Loss')\n",
    "plt.title('Loss Curve')\n",
    "plt.legend()\n",
    "\n",
    "# Plot Accuracy Curves\n",
    "plt.subplot(1, 2, 2)\n",
    "plt.plot(train_acc, label='Train Accuracy')\n",
    "plt.plot(val_acc, label='Val Accuracy', linestyle='dashed')\n",
    "plt.xlabel('Epochs')\n",
    "plt.ylabel('Accuracy')\n",
    "plt.title('Accuracy Curve')\n",
    "plt.legend()\n",
    "\n",
    "plt.show()"
   ]
  },
  {
   "cell_type": "code",
   "execution_count": 27,
   "id": "ea1c9ac0",
   "metadata": {
    "execution": {
     "iopub.execute_input": "2025-03-22T20:51:31.574604Z",
     "iopub.status.busy": "2025-03-22T20:51:31.574281Z",
     "iopub.status.idle": "2025-03-22T20:51:34.262687Z",
     "shell.execute_reply": "2025-03-22T20:51:34.261825Z"
    },
    "papermill": {
     "duration": 3.752708,
     "end_time": "2025-03-22T20:51:34.264108",
     "exception": false,
     "start_time": "2025-03-22T20:51:30.511400",
     "status": "completed"
    },
    "tags": []
   },
   "outputs": [
    {
     "name": "stdout",
     "output_type": "stream",
     "text": [
      "\u001b[1m61/61\u001b[0m \u001b[32m━━━━━━━━━━━━━━━━━━━━\u001b[0m\u001b[37m\u001b[0m \u001b[1m3s\u001b[0m 38ms/step\n",
      "Validation F1 Score: 0.6365912167355585\n"
     ]
    }
   ],
   "source": [
    "# ---------------------------\n",
    "# Evaluate Using F1 Score\n",
    "# ---------------------------\n",
    "y_val_pred_prob = model.predict(X_val)\n",
    "y_val_pred = np.argmax(y_val_pred_prob, axis=1)\n",
    "\n",
    "f1 = f1_score(y_val, y_val_pred, average='weighted')\n",
    "print(\"Validation F1 Score:\", f1)"
   ]
  },
  {
   "cell_type": "code",
   "execution_count": 28,
   "id": "b0f9b4f1",
   "metadata": {
    "execution": {
     "iopub.execute_input": "2025-03-22T20:51:36.324491Z",
     "iopub.status.busy": "2025-03-22T20:51:36.324194Z",
     "iopub.status.idle": "2025-03-22T20:51:36.330120Z",
     "shell.execute_reply": "2025-03-22T20:51:36.329405Z"
    },
    "papermill": {
     "duration": 1.009185,
     "end_time": "2025-03-22T20:51:36.331275",
     "exception": false,
     "start_time": "2025-03-22T20:51:35.322090",
     "status": "completed"
    },
    "tags": []
   },
   "outputs": [],
   "source": [
    "test_meta['target'] = test_meta['target'].apply(lambda x: 1 if x != 0 else 0)\n",
    "test_meta = test_meta.drop(columns=['NORM', 'MI', 'STTC', 'CD'])"
   ]
  },
  {
   "cell_type": "code",
   "execution_count": 29,
   "id": "033a82fc",
   "metadata": {
    "execution": {
     "iopub.execute_input": "2025-03-22T20:51:38.453454Z",
     "iopub.status.busy": "2025-03-22T20:51:38.453163Z",
     "iopub.status.idle": "2025-03-22T20:51:39.892340Z",
     "shell.execute_reply": "2025-03-22T20:51:39.891542Z"
    },
    "papermill": {
     "duration": 2.49741,
     "end_time": "2025-03-22T20:51:39.893671",
     "exception": false,
     "start_time": "2025-03-22T20:51:37.396261",
     "status": "completed"
    },
    "tags": []
   },
   "outputs": [
    {
     "name": "stdout",
     "output_type": "stream",
     "text": [
      "Test data shape: (1940, 1000, 3)\n",
      "Test labels shape: (1940,)\n"
     ]
    }
   ],
   "source": [
    "grouped_test = test_signal.groupby('ecg_id')\n",
    "X_test = []\n",
    "y_test = []\n",
    "\n",
    "for ecg_id, group in grouped_test:\n",
    "    if len(group) != 1000:\n",
    "        continue\n",
    "    sample = group[['channel-0', 'channel-1', 'channel-3']].to_numpy()\n",
    "    X_test.append(sample)\n",
    "    \n",
    "    label = test_meta.loc[test_meta['ecg_id'] == ecg_id, 'target'].values\n",
    "    if len(label) == 0:\n",
    "        continue\n",
    "    y_test.append(label[0])\n",
    "\n",
    "X_test = np.array(X_test)\n",
    "y_test = np.array(y_test)\n",
    "\n",
    "print(\"Test data shape:\", X_test.shape)\n",
    "print(\"Test labels shape:\", y_test.shape)"
   ]
  },
  {
   "cell_type": "code",
   "execution_count": 30,
   "id": "40df7f89",
   "metadata": {
    "execution": {
     "iopub.execute_input": "2025-03-22T20:51:42.022661Z",
     "iopub.status.busy": "2025-03-22T20:51:42.022361Z",
     "iopub.status.idle": "2025-03-22T20:51:44.223014Z",
     "shell.execute_reply": "2025-03-22T20:51:44.222290Z"
    },
    "papermill": {
     "duration": 3.27347,
     "end_time": "2025-03-22T20:51:44.224334",
     "exception": false,
     "start_time": "2025-03-22T20:51:40.950864",
     "status": "completed"
    },
    "tags": []
   },
   "outputs": [
    {
     "name": "stdout",
     "output_type": "stream",
     "text": [
      "\u001b[1m61/61\u001b[0m \u001b[32m━━━━━━━━━━━━━━━━━━━━\u001b[0m\u001b[37m\u001b[0m \u001b[1m2s\u001b[0m 34ms/step\n",
      "Test F1 Score: 0.6328872121455925\n"
     ]
    }
   ],
   "source": [
    "# Predict on the Test data\n",
    "y_test_pred_prob = model.predict(X_test)\n",
    "y_test_pred = np.argmax(y_test_pred_prob, axis=1)\n",
    "\n",
    "# Calculate the F1 score\n",
    "f1 = f1_score(y_test, y_test_pred, average='weighted')\n",
    "print(\"Test F1 Score:\", f1)"
   ]
  },
  {
   "cell_type": "code",
   "execution_count": 31,
   "id": "625c7829",
   "metadata": {
    "execution": {
     "iopub.execute_input": "2025-03-22T20:51:46.273689Z",
     "iopub.status.busy": "2025-03-22T20:51:46.273382Z",
     "iopub.status.idle": "2025-03-22T20:51:46.280450Z",
     "shell.execute_reply": "2025-03-22T20:51:46.279592Z"
    },
    "papermill": {
     "duration": 1.055665,
     "end_time": "2025-03-22T20:51:46.281617",
     "exception": false,
     "start_time": "2025-03-22T20:51:45.225952",
     "status": "completed"
    },
    "tags": []
   },
   "outputs": [
    {
     "name": "stdout",
     "output_type": "stream",
     "text": [
      "Accuracy for class 0: 0.5469\n",
      "Accuracy for class 1: 0.7303\n"
     ]
    }
   ],
   "source": [
    "import numpy as np\n",
    "\n",
    "# Get unique class labels\n",
    "classes = np.unique(y_test)\n",
    "\n",
    "# Compute per-class accuracy\n",
    "class_accuracies = {}\n",
    "for c in classes:\n",
    "    actual_c = (y_test == c)  # Indices where actual class is c\n",
    "    correct_c = np.sum(y_test_pred[actual_c] == c)  # Correctly predicted c\n",
    "    total_c = np.sum(actual_c)  # Total actual occurrences of c\n",
    "    class_accuracies[c] = correct_c / total_c if total_c > 0 else 0\n",
    "\n",
    "# Print results\n",
    "for c, acc in class_accuracies.items():\n",
    "    print(f\"Accuracy for class {c}: {acc:.4f}\")"
   ]
  },
  {
   "cell_type": "code",
   "execution_count": 32,
   "id": "aac9d8df",
   "metadata": {
    "execution": {
     "iopub.execute_input": "2025-03-22T20:51:48.374678Z",
     "iopub.status.busy": "2025-03-22T20:51:48.374348Z",
     "iopub.status.idle": "2025-03-22T20:51:48.431388Z",
     "shell.execute_reply": "2025-03-22T20:51:48.430515Z"
    },
    "papermill": {
     "duration": 1.105301,
     "end_time": "2025-03-22T20:51:48.432822",
     "exception": false,
     "start_time": "2025-03-22T20:51:47.327521",
     "status": "completed"
    },
    "tags": []
   },
   "outputs": [],
   "source": [
    "# Save the model\n",
    "model.save(\"anomaly_detection_lstm_model.h5\")"
   ]
  }
 ],
 "metadata": {
  "kaggle": {
   "accelerator": "nvidiaTeslaT4",
   "dataSources": [
    {
     "datasetId": 6886042,
     "sourceId": 11052890,
     "sourceType": "datasetVersion"
    }
   ],
   "dockerImageVersionId": 30919,
   "isGpuEnabled": true,
   "isInternetEnabled": true,
   "language": "python",
   "sourceType": "notebook"
  },
  "kernelspec": {
   "display_name": "Python 3",
   "language": "python",
   "name": "python3"
  },
  "language_info": {
   "codemirror_mode": {
    "name": "ipython",
    "version": 3
   },
   "file_extension": ".py",
   "mimetype": "text/x-python",
   "name": "python",
   "nbconvert_exporter": "python",
   "pygments_lexer": "ipython3",
   "version": "3.10.12"
  },
  "papermill": {
   "default_parameters": {},
   "duration": 2079.467157,
   "end_time": "2025-03-22T20:51:52.513635",
   "environment_variables": {},
   "exception": null,
   "input_path": "__notebook__.ipynb",
   "output_path": "__notebook__.ipynb",
   "parameters": {},
   "start_time": "2025-03-22T20:17:13.046478",
   "version": "2.6.0"
  }
 },
 "nbformat": 4,
 "nbformat_minor": 5
}
